{
 "cells": [
  {
   "cell_type": "code",
   "execution_count": 2,
   "metadata": {},
   "outputs": [
    {
     "ename": "ERROR",
     "evalue": "Error in sample(loans_income, 1000): 객체 'loans_income'를 찾을 수 없습니다\n",
     "output_type": "error",
     "traceback": [
      "Error in sample(loans_income, 1000): 객체 'loans_income'를 찾을 수 없습니다\nTraceback:\n",
      "1. data.frame(income = sample(loans_income, 1000), type = \"data_dist\")",
      "2. sample(loans_income, 1000)"
     ]
    }
   ],
   "source": [
    "library(ggplot2)\n",
    "samp_data <-  data.frame(income=sample(loans_income, 1000),\n",
    "                   type = 'data_dist')\n",
    "samp_mean_05 <- data.frame(\n",
    "    income = tapply(sample(loans_income, 1000*5),\n",
    "                   rep(1:1000, rep(5,1000)),FUN=mean),\n",
    "    type = 'mean_of_5')\n",
    "samp_mean_20 <- data.frame(\n",
    "    income = tapply(sample(loans_income, 1000*20),\n",
    "                   rep(1:1000, rep(20, 1000)), FUN=mean),\n",
    "    type = 'mean_of_20')\n",
    "income <- rbind(samp_data, samp_mean_05, samp_mean_20)\n",
    "income$type = factor(income$type,\n",
    "                    levels=c('data_dist', 'mean_of_5', 'mean_of_20'),\n",
    "                    lavels=c('Data', 'Mean of 5', 'Mean of 20'))\n",
    "ggplot(income, aes(x=income)) +\n",
    "    geom_histogram(bins=40) + \n",
    "   facet_grid(type ~ .)"
   ]
  },
  {
   "cell_type": "code",
   "execution_count": 14,
   "metadata": {},
   "outputs": [
    {
     "name": "stderr",
     "output_type": "stream",
     "text": [
      "Warning message in file(file, \"rt\"):\n",
      "\"파일 'C:\\Users\\715ac\\Documents/R/data/loans_income.csv'를 여는데 실패했습니다: No such file or directory\""
     ]
    },
    {
     "ename": "ERROR",
     "evalue": "Error in file(file, \"rt\"): 커넥션을 열 수 없습니다\n",
     "output_type": "error",
     "traceback": [
      "Error in file(file, \"rt\"): 커넥션을 열 수 없습니다\nTraceback:\n",
      "1. read.csv(file.path(PSDS_PATH, \"data\", \"loans_income.csv\"))",
      "2. read.table(file = file, header = header, sep = sep, quote = quote, \n .     dec = dec, fill = fill, comment.char = comment.char, ...)",
      "3. file(file, \"rt\")"
     ]
    }
   ],
   "source": [
    "library(boot)\n",
    "library(ggplot2)\n",
    "\n",
    "PSDS_PATH <- file.path('~', 'statistics-for-data-scientists')\n",
    "\n",
    "loans_income <- read.csv(file.path(PSDS_PATH, 'data', 'loans_income.csv'))[,1]\n",
    "sp500_px <- read.csv(file.path(PSDS_PATH, 'data', 'sp500_px.csv'))\n",
    "\n",
    "x <- seq(from=-3, to=3, length=300)\n",
    "gauss <- dnorm(x)\n",
    "\n",
    "png(filename=file.path(PSDS_PATH, 'figures', 'normal_density.png'),  width = 4, height=5, units='in', res=300)\n",
    "par(mar=c(3, 3, 0, 0)+.1)\n",
    "plot(x, gauss, type=\"l\", col='blue', xlab='', ylab='', axes=FALSE)\n",
    "polygon(x, gauss, col='blue')\n",
    "dev.off()\n",
    "\n",
    "png(filename=file.path(PSDS_PATH, 'figures', 'samp_hist.png'), width = 200, height = 250)\n",
    "norm_samp <- rnorm(100)\n",
    "par(mar=c(3, 3, 0, 0)+.1)\n",
    "hist(norm_samp, axes=FALSE, col='red', main='')\n",
    "dev.off()\n",
    "\n",
    "## Code snippet 2.1\n",
    "stat_fun <- function(x, idx) median(x[idx])\n",
    "boot_obj <- boot(loans_income, R = 1000, statistic=stat_fun)\n",
    "\n",
    "\n",
    "# take a simple random sample\n",
    "samp_data <- data.frame(income=sample(loans_income, 1000), \n",
    "                        type='data_dist')\n",
    "# take a sample of means of 5 values\n",
    "samp_mean_05 <- data.frame(\n",
    "  income = tapply(sample(loans_income, 1000*5), \n",
    "                  rep(1:1000, rep(5, 1000)), FUN=mean),\n",
    "  type = 'mean_of_5')\n",
    "# take a sample of means of 20 values\n",
    "samp_mean_20 <- data.frame(\n",
    "  income = tapply(sample(loans_income, 1000*20), \n",
    "                  rep(1:1000, rep(20, 1000)), FUN=mean),\n",
    "  type = 'mean_of_20')\n",
    "# bind the data.frames and convert type to a factor\n",
    "income <- rbind(samp_data, samp_mean_05, samp_mean_20)\n",
    "income$type = factor(income$type, \n",
    "                     levels=c('data_dist', 'mean_of_5', 'mean_of_20'),\n",
    "                     labels=c('Data', 'Mean of 5', 'Mean of 20'))\n",
    "# plot the histograms\n",
    "ggplot(income, aes(x=income)) +\n",
    "  geom_histogram(bins=40) +\n",
    "  facet_grid(type ~ .)"
   ]
  },
  {
   "cell_type": "code",
   "execution_count": 11,
   "metadata": {},
   "outputs": [
    {
     "data": {
      "image/png": "[encoded data removed]",
      "text/plain": [
       "Plot with title \"Normal Q-Q Plot\""
      ]
     },
     "metadata": {},
     "output_type": "display_data"
    }
   ],
   "source": [
    "norm_samp <- rnorm(100) \n",
    "qqnorm(norm_samp) \n",
    "abline(a=0, b=1, col='grey')"
   ]
  },
  {
   "cell_type": "code",
   "execution_count": 17,
   "metadata": {},
   "outputs": [
    {
     "ename": "ERROR",
     "evalue": "Error in eval(expr, envir, enclos): 객체 'sp500_px'를 찾을 수 없습니다\n",
     "output_type": "error",
     "traceback": [
      "Error in eval(expr, envir, enclos): 객체 'sp500_px'를 찾을 수 없습니다\nTraceback:\n"
     ]
    }
   ],
   "source": [
    "nflx <- sp500_px[,'NFLX'] \n",
    "nflx <- diff(log(nflx[nflx>0])) \n",
    "qqnorm(nflx) \n",
    "abline(a=0, b=1, col='grey')"
   ]
  },
  {
   "cell_type": "code",
   "execution_count": null,
   "metadata": {},
   "outputs": [],
   "source": []
  }
 ],
 "metadata": {
  "kernelspec": {
   "display_name": "R",
   "language": "R",
   "name": "ir"
  },
  "language_info": {
   "codemirror_mode": "r",
   "file_extension": ".r",
   "mimetype": "text/x-r-source",
   "name": "R",
   "pygments_lexer": "r",
   "version": "3.6.1"
  }
 },
 "nbformat": 4,
 "nbformat_minor": 4
}
