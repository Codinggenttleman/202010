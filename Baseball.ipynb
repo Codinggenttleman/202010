{
  "nbformat": 4,
  "nbformat_minor": 0,
  "metadata": {
    "colab": {
      "name": "Baseball.ipynb",
      "provenance": [],
      "include_colab_link": true
    },
    "kernelspec": {
      "name": "python3",
      "display_name": "Python 3"
    }
  },
  "cells": [
    {
      "cell_type": "markdown",
      "metadata": {
        "id": "view-in-github",
        "colab_type": "text"
      },
      "source": [
        "<a href=\"https://colab.research.google.com/github/Codinggenttleman/202010/blob/main/Baseball.ipynb\" target=\"_parent\"><img src=\"https://colab.research.google.com/assets/colab-badge.svg\" alt=\"Open In Colab\"/></a>"
      ]
    },
    {
      "cell_type": "code",
      "metadata": {
        "id": "Y5c5WNPfe8zF"
      },
      "source": [
        "import pandas as pd               # 분석\n",
        "import numpy as np                # 계산\n",
        "import matplotlib.pyplot as plt   # 그림"
      ],
      "execution_count": null,
      "outputs": []
    },
    {
      "cell_type": "code",
      "metadata": {
        "id": "L-xPVhT4tHNK"
      },
      "source": [
        "###########################################\n",
        "# step 1 탐색\n",
        "###########################################"
      ],
      "execution_count": null,
      "outputs": []
    },
    {
      "cell_type": "code",
      "metadata": {
        "id": "n_XRHwOahYHt"
      },
      "source": [
        "picher = pd.read_csv('picher_stats_2017.csv')\n",
        "batter = pd.read_csv('batter_stats_2017.csv')"
      ],
      "execution_count": null,
      "outputs": []
    },
    {
      "cell_type": "code",
      "metadata": {
        "id": "q-fnbiA5hnFT",
        "outputId": "152a675d-721d-4361-ac51-8f46582091c3",
        "colab": {
          "base_uri": "https://localhost:8080/",
          "height": 86
        }
      },
      "source": [
        "picher.columns"
      ],
      "execution_count": null,
      "outputs": [
        {
          "output_type": "execute_result",
          "data": {
            "text/plain": [
              "Index(['선수명', '팀명', '승', '패', '세', '홀드', '블론', '경기', '선발', '이닝', '삼진/9',\n",
              "       '볼넷/9', '홈런/9', 'BABIP', 'LOB%', 'ERA', 'RA9-WAR', 'FIP', 'kFIP', 'WAR',\n",
              "       '연봉(2018)', '연봉(2017)'],\n",
              "      dtype='object')"
            ]
          },
          "metadata": {
            "tags": []
          },
          "execution_count": 151
        }
      ]
    },
    {
      "cell_type": "code",
      "metadata": {
        "id": "lnAG3ghZh4PT",
        "outputId": "c489f071-f3cb-4175-fa66-66ebb87bf04c",
        "colab": {
          "base_uri": "https://localhost:8080/",
          "height": 86
        }
      },
      "source": [
        "batter.columns"
      ],
      "execution_count": null,
      "outputs": [
        {
          "output_type": "execute_result",
          "data": {
            "text/plain": [
              "Index(['선수명', '팀명', '경기', '타석', '타수', '안타', '홈런', '득점', '타점', '볼넷', '삼진', '도루',\n",
              "       'BABIP', '타율', '출루율', '장타율', 'OPS', 'wOBA', 'WAR', '연봉(2018)',\n",
              "       '연봉(2017)'],\n",
              "      dtype='object')"
            ]
          },
          "metadata": {
            "tags": []
          },
          "execution_count": 152
        }
      ]
    },
    {
      "cell_type": "code",
      "metadata": {
        "id": "g-Qx-zhIh8Ti",
        "outputId": "3025481b-2974-4ec4-c1c9-981c149d4e38",
        "colab": {
          "base_uri": "https://localhost:8080/",
          "height": 384
        }
      },
      "source": [
        "picher.head()"
      ],
      "execution_count": null,
      "outputs": [
        {
          "output_type": "execute_result",
          "data": {
            "text/html": [
              "<div>\n",
              "<style scoped>\n",
              "    .dataframe tbody tr th:only-of-type {\n",
              "        vertical-align: middle;\n",
              "    }\n",
              "\n",
              "    .dataframe tbody tr th {\n",
              "        vertical-align: top;\n",
              "    }\n",
              "\n",
              "    .dataframe thead th {\n",
              "        text-align: right;\n",
              "    }\n",
              "</style>\n",
              "<table border=\"1\" class=\"dataframe\">\n",
              "  <thead>\n",
              "    <tr style=\"text-align: right;\">\n",
              "      <th></th>\n",
              "      <th>선수명</th>\n",
              "      <th>팀명</th>\n",
              "      <th>승</th>\n",
              "      <th>패</th>\n",
              "      <th>세</th>\n",
              "      <th>홀드</th>\n",
              "      <th>블론</th>\n",
              "      <th>경기</th>\n",
              "      <th>선발</th>\n",
              "      <th>이닝</th>\n",
              "      <th>삼진/9</th>\n",
              "      <th>볼넷/9</th>\n",
              "      <th>홈런/9</th>\n",
              "      <th>BABIP</th>\n",
              "      <th>LOB%</th>\n",
              "      <th>ERA</th>\n",
              "      <th>RA9-WAR</th>\n",
              "      <th>FIP</th>\n",
              "      <th>kFIP</th>\n",
              "      <th>WAR</th>\n",
              "      <th>연봉(2018)</th>\n",
              "      <th>연봉(2017)</th>\n",
              "    </tr>\n",
              "  </thead>\n",
              "  <tbody>\n",
              "    <tr>\n",
              "      <th>0</th>\n",
              "      <td>켈리</td>\n",
              "      <td>SK</td>\n",
              "      <td>16</td>\n",
              "      <td>7</td>\n",
              "      <td>0</td>\n",
              "      <td>0</td>\n",
              "      <td>0</td>\n",
              "      <td>30</td>\n",
              "      <td>30</td>\n",
              "      <td>190.0</td>\n",
              "      <td>8.95</td>\n",
              "      <td>2.13</td>\n",
              "      <td>0.76</td>\n",
              "      <td>0.342</td>\n",
              "      <td>73.7</td>\n",
              "      <td>3.60</td>\n",
              "      <td>6.91</td>\n",
              "      <td>3.69</td>\n",
              "      <td>3.44</td>\n",
              "      <td>6.62</td>\n",
              "      <td>140000</td>\n",
              "      <td>85000</td>\n",
              "    </tr>\n",
              "    <tr>\n",
              "      <th>1</th>\n",
              "      <td>소사</td>\n",
              "      <td>LG</td>\n",
              "      <td>11</td>\n",
              "      <td>11</td>\n",
              "      <td>1</td>\n",
              "      <td>0</td>\n",
              "      <td>0</td>\n",
              "      <td>30</td>\n",
              "      <td>29</td>\n",
              "      <td>185.1</td>\n",
              "      <td>7.43</td>\n",
              "      <td>1.85</td>\n",
              "      <td>0.53</td>\n",
              "      <td>0.319</td>\n",
              "      <td>67.1</td>\n",
              "      <td>3.88</td>\n",
              "      <td>6.80</td>\n",
              "      <td>3.52</td>\n",
              "      <td>3.41</td>\n",
              "      <td>6.08</td>\n",
              "      <td>120000</td>\n",
              "      <td>50000</td>\n",
              "    </tr>\n",
              "    <tr>\n",
              "      <th>2</th>\n",
              "      <td>양현종</td>\n",
              "      <td>KIA</td>\n",
              "      <td>20</td>\n",
              "      <td>6</td>\n",
              "      <td>0</td>\n",
              "      <td>0</td>\n",
              "      <td>0</td>\n",
              "      <td>31</td>\n",
              "      <td>31</td>\n",
              "      <td>193.1</td>\n",
              "      <td>7.36</td>\n",
              "      <td>2.09</td>\n",
              "      <td>0.79</td>\n",
              "      <td>0.332</td>\n",
              "      <td>72.1</td>\n",
              "      <td>3.44</td>\n",
              "      <td>6.54</td>\n",
              "      <td>3.94</td>\n",
              "      <td>3.82</td>\n",
              "      <td>5.64</td>\n",
              "      <td>230000</td>\n",
              "      <td>150000</td>\n",
              "    </tr>\n",
              "    <tr>\n",
              "      <th>3</th>\n",
              "      <td>차우찬</td>\n",
              "      <td>LG</td>\n",
              "      <td>10</td>\n",
              "      <td>7</td>\n",
              "      <td>0</td>\n",
              "      <td>0</td>\n",
              "      <td>0</td>\n",
              "      <td>28</td>\n",
              "      <td>28</td>\n",
              "      <td>175.2</td>\n",
              "      <td>8.04</td>\n",
              "      <td>1.95</td>\n",
              "      <td>1.02</td>\n",
              "      <td>0.298</td>\n",
              "      <td>75.0</td>\n",
              "      <td>3.43</td>\n",
              "      <td>6.11</td>\n",
              "      <td>4.20</td>\n",
              "      <td>4.03</td>\n",
              "      <td>4.63</td>\n",
              "      <td>100000</td>\n",
              "      <td>100000</td>\n",
              "    </tr>\n",
              "    <tr>\n",
              "      <th>4</th>\n",
              "      <td>레일리</td>\n",
              "      <td>롯데</td>\n",
              "      <td>13</td>\n",
              "      <td>7</td>\n",
              "      <td>0</td>\n",
              "      <td>0</td>\n",
              "      <td>0</td>\n",
              "      <td>30</td>\n",
              "      <td>30</td>\n",
              "      <td>187.1</td>\n",
              "      <td>7.49</td>\n",
              "      <td>2.11</td>\n",
              "      <td>0.91</td>\n",
              "      <td>0.323</td>\n",
              "      <td>74.1</td>\n",
              "      <td>3.80</td>\n",
              "      <td>6.13</td>\n",
              "      <td>4.36</td>\n",
              "      <td>4.31</td>\n",
              "      <td>4.38</td>\n",
              "      <td>111000</td>\n",
              "      <td>85000</td>\n",
              "    </tr>\n",
              "  </tbody>\n",
              "</table>\n",
              "</div>"
            ],
            "text/plain": [
              "   선수명   팀명   승   패  세  홀드  ...  RA9-WAR   FIP  kFIP   WAR  연봉(2018)  연봉(2017)\n",
              "0   켈리   SK  16   7  0   0  ...     6.91  3.69  3.44  6.62    140000     85000\n",
              "1   소사   LG  11  11  1   0  ...     6.80  3.52  3.41  6.08    120000     50000\n",
              "2  양현종  KIA  20   6  0   0  ...     6.54  3.94  3.82  5.64    230000    150000\n",
              "3  차우찬   LG  10   7  0   0  ...     6.11  4.20  4.03  4.63    100000    100000\n",
              "4  레일리   롯데  13   7  0   0  ...     6.13  4.36  4.31  4.38    111000     85000\n",
              "\n",
              "[5 rows x 22 columns]"
            ]
          },
          "metadata": {
            "tags": []
          },
          "execution_count": 153
        }
      ]
    },
    {
      "cell_type": "code",
      "metadata": {
        "id": "lQoSVELRiEey"
      },
      "source": [
        ""
      ],
      "execution_count": null,
      "outputs": []
    },
    {
      "cell_type": "code",
      "metadata": {
        "id": "FibrPPWbiINZ",
        "outputId": "a76f93e6-6919-4af2-aa6d-8511d8e9877f",
        "colab": {
          "base_uri": "https://localhost:8080/",
          "height": 400
        }
      },
      "source": [
        "batter.head()"
      ],
      "execution_count": null,
      "outputs": [
        {
          "output_type": "execute_result",
          "data": {
            "text/html": [
              "<div>\n",
              "<style scoped>\n",
              "    .dataframe tbody tr th:only-of-type {\n",
              "        vertical-align: middle;\n",
              "    }\n",
              "\n",
              "    .dataframe tbody tr th {\n",
              "        vertical-align: top;\n",
              "    }\n",
              "\n",
              "    .dataframe thead th {\n",
              "        text-align: right;\n",
              "    }\n",
              "</style>\n",
              "<table border=\"1\" class=\"dataframe\">\n",
              "  <thead>\n",
              "    <tr style=\"text-align: right;\">\n",
              "      <th></th>\n",
              "      <th>선수명</th>\n",
              "      <th>팀명</th>\n",
              "      <th>경기</th>\n",
              "      <th>타석</th>\n",
              "      <th>타수</th>\n",
              "      <th>안타</th>\n",
              "      <th>홈런</th>\n",
              "      <th>득점</th>\n",
              "      <th>타점</th>\n",
              "      <th>볼넷</th>\n",
              "      <th>삼진</th>\n",
              "      <th>도루</th>\n",
              "      <th>BABIP</th>\n",
              "      <th>타율</th>\n",
              "      <th>출루율</th>\n",
              "      <th>장타율</th>\n",
              "      <th>OPS</th>\n",
              "      <th>wOBA</th>\n",
              "      <th>WAR</th>\n",
              "      <th>연봉(2018)</th>\n",
              "      <th>연봉(2017)</th>\n",
              "    </tr>\n",
              "  </thead>\n",
              "  <tbody>\n",
              "    <tr>\n",
              "      <th>0</th>\n",
              "      <td>최정</td>\n",
              "      <td>SK</td>\n",
              "      <td>130</td>\n",
              "      <td>527</td>\n",
              "      <td>430</td>\n",
              "      <td>136</td>\n",
              "      <td>46</td>\n",
              "      <td>89</td>\n",
              "      <td>113</td>\n",
              "      <td>70</td>\n",
              "      <td>107</td>\n",
              "      <td>1</td>\n",
              "      <td>0.316</td>\n",
              "      <td>0.316</td>\n",
              "      <td>0.427</td>\n",
              "      <td>0.684</td>\n",
              "      <td>1.111</td>\n",
              "      <td>0.442</td>\n",
              "      <td>7.30</td>\n",
              "      <td>120000</td>\n",
              "      <td>120000</td>\n",
              "    </tr>\n",
              "    <tr>\n",
              "      <th>1</th>\n",
              "      <td>최형우</td>\n",
              "      <td>KIA</td>\n",
              "      <td>142</td>\n",
              "      <td>629</td>\n",
              "      <td>514</td>\n",
              "      <td>176</td>\n",
              "      <td>26</td>\n",
              "      <td>98</td>\n",
              "      <td>120</td>\n",
              "      <td>96</td>\n",
              "      <td>82</td>\n",
              "      <td>0</td>\n",
              "      <td>0.362</td>\n",
              "      <td>0.342</td>\n",
              "      <td>0.450</td>\n",
              "      <td>0.576</td>\n",
              "      <td>1.026</td>\n",
              "      <td>0.430</td>\n",
              "      <td>7.20</td>\n",
              "      <td>150000</td>\n",
              "      <td>150000</td>\n",
              "    </tr>\n",
              "    <tr>\n",
              "      <th>2</th>\n",
              "      <td>박건우</td>\n",
              "      <td>두산</td>\n",
              "      <td>131</td>\n",
              "      <td>543</td>\n",
              "      <td>483</td>\n",
              "      <td>177</td>\n",
              "      <td>20</td>\n",
              "      <td>91</td>\n",
              "      <td>78</td>\n",
              "      <td>41</td>\n",
              "      <td>64</td>\n",
              "      <td>20</td>\n",
              "      <td>0.39</td>\n",
              "      <td>0.366</td>\n",
              "      <td>0.424</td>\n",
              "      <td>0.582</td>\n",
              "      <td>1.006</td>\n",
              "      <td>0.424</td>\n",
              "      <td>7.04</td>\n",
              "      <td>37000</td>\n",
              "      <td>19500</td>\n",
              "    </tr>\n",
              "    <tr>\n",
              "      <th>3</th>\n",
              "      <td>나성범</td>\n",
              "      <td>NC</td>\n",
              "      <td>125</td>\n",
              "      <td>561</td>\n",
              "      <td>498</td>\n",
              "      <td>173</td>\n",
              "      <td>24</td>\n",
              "      <td>103</td>\n",
              "      <td>99</td>\n",
              "      <td>48</td>\n",
              "      <td>116</td>\n",
              "      <td>17</td>\n",
              "      <td>0.413</td>\n",
              "      <td>0.347</td>\n",
              "      <td>0.415</td>\n",
              "      <td>0.584</td>\n",
              "      <td>0.999</td>\n",
              "      <td>0.416</td>\n",
              "      <td>5.64</td>\n",
              "      <td>43000</td>\n",
              "      <td>35000</td>\n",
              "    </tr>\n",
              "    <tr>\n",
              "      <th>4</th>\n",
              "      <td>손아섭</td>\n",
              "      <td>롯데</td>\n",
              "      <td>144</td>\n",
              "      <td>667</td>\n",
              "      <td>576</td>\n",
              "      <td>193</td>\n",
              "      <td>20</td>\n",
              "      <td>113</td>\n",
              "      <td>80</td>\n",
              "      <td>83</td>\n",
              "      <td>96</td>\n",
              "      <td>25</td>\n",
              "      <td>0.374</td>\n",
              "      <td>0.335</td>\n",
              "      <td>0.420</td>\n",
              "      <td>0.514</td>\n",
              "      <td>0.934</td>\n",
              "      <td>0.398</td>\n",
              "      <td>5.60</td>\n",
              "      <td>150000</td>\n",
              "      <td>65000</td>\n",
              "    </tr>\n",
              "  </tbody>\n",
              "</table>\n",
              "</div>"
            ],
            "text/plain": [
              "   선수명   팀명   경기   타석   타수   안타  ...    장타율    OPS   wOBA   WAR  연봉(2018)  연봉(2017)\n",
              "0   최정   SK  130  527  430  136  ...  0.684  1.111  0.442  7.30    120000    120000\n",
              "1  최형우  KIA  142  629  514  176  ...  0.576  1.026  0.430  7.20    150000    150000\n",
              "2  박건우   두산  131  543  483  177  ...  0.582  1.006  0.424  7.04     37000     19500\n",
              "3  나성범   NC  125  561  498  173  ...  0.584  0.999  0.416  5.64     43000     35000\n",
              "4  손아섭   롯데  144  667  576  193  ...  0.514  0.934  0.398  5.60    150000     65000\n",
              "\n",
              "[5 rows x 21 columns]"
            ]
          },
          "metadata": {
            "tags": []
          },
          "execution_count": 154
        }
      ]
    },
    {
      "cell_type": "code",
      "metadata": {
        "id": "qK9XJzaTiK4j",
        "outputId": "7a04f0e4-e28b-4108-f843-a36f55441b00",
        "colab": {
          "base_uri": "https://localhost:8080/",
          "height": 34
        }
      },
      "source": [
        "print(picher.shape)"
      ],
      "execution_count": null,
      "outputs": [
        {
          "output_type": "stream",
          "text": [
            "(152, 22)\n"
          ],
          "name": "stdout"
        }
      ]
    },
    {
      "cell_type": "code",
      "metadata": {
        "id": "d-W_oCYwiWli",
        "outputId": "7319af23-d417-40cd-e347-9b76be708f44",
        "colab": {
          "base_uri": "https://localhost:8080/",
          "height": 34
        }
      },
      "source": [
        "print(batter.shape)"
      ],
      "execution_count": null,
      "outputs": [
        {
          "output_type": "stream",
          "text": [
            "(191, 21)\n"
          ],
          "name": "stdout"
        }
      ]
    },
    {
      "cell_type": "code",
      "metadata": {
        "id": "vcRW_xsriZvh",
        "outputId": "3e15209f-ad35-47cc-ae94-402021ebe236",
        "colab": {
          "base_uri": "https://localhost:8080/",
          "height": 174
        }
      },
      "source": [
        "picher['연봉(2018)'].describe()"
      ],
      "execution_count": null,
      "outputs": [
        {
          "output_type": "execute_result",
          "data": {
            "text/plain": [
              "count       152.000000\n",
              "mean      18932.236842\n",
              "std       30940.732924\n",
              "min        2700.000000\n",
              "25%        4000.000000\n",
              "50%        7550.000000\n",
              "75%       18500.000000\n",
              "max      230000.000000\n",
              "Name: 연봉(2018), dtype: float64"
            ]
          },
          "metadata": {
            "tags": []
          },
          "execution_count": 157
        }
      ]
    },
    {
      "cell_type": "code",
      "metadata": {
        "id": "A2icbd_Sipoi",
        "outputId": "2b07e6c4-148e-47ec-e262-576bd260789a",
        "colab": {
          "base_uri": "https://localhost:8080/",
          "height": 174
        }
      },
      "source": [
        "picher['연봉(2017)'].describe()"
      ],
      "execution_count": null,
      "outputs": [
        {
          "output_type": "execute_result",
          "data": {
            "text/plain": [
              "count       152.000000\n",
              "mean      16505.263158\n",
              "std       25046.478092\n",
              "min        2700.000000\n",
              "25%        3000.000000\n",
              "50%        6000.000000\n",
              "75%       15250.000000\n",
              "max      150000.000000\n",
              "Name: 연봉(2017), dtype: float64"
            ]
          },
          "metadata": {
            "tags": []
          },
          "execution_count": 158
        }
      ]
    },
    {
      "cell_type": "code",
      "metadata": {
        "id": "0CHMwm1bnYRO",
        "outputId": "b6946751-9344-4f02-8001-aaefd1d67e01",
        "colab": {
          "base_uri": "https://localhost:8080/",
          "height": 313
        }
      },
      "source": [
        "# 그래프에서 한글 보이도록 설정\n",
        "\n",
        "!sudo apt-get install -y fonts-nanum\n",
        "!sudo fc-cache -fv\n",
        "!rm ~/.cache/matplotlib -rf\n",
        "\n",
        "plt.rc('font', family='NanumBarunGothic') \n",
        "\n",
        "# Runtime -> Restart runtime"
      ],
      "execution_count": null,
      "outputs": [
        {
          "output_type": "stream",
          "text": [
            "Reading package lists... Done\n",
            "Building dependency tree       \n",
            "Reading state information... Done\n",
            "fonts-nanum is already the newest version (20170925-1).\n",
            "0 upgraded, 0 newly installed, 0 to remove and 22 not upgraded.\n",
            "/usr/share/fonts: caching, new cache contents: 0 fonts, 1 dirs\n",
            "/usr/share/fonts/truetype: caching, new cache contents: 0 fonts, 3 dirs\n",
            "/usr/share/fonts/truetype/humor-sans: caching, new cache contents: 1 fonts, 0 dirs\n",
            "/usr/share/fonts/truetype/liberation: caching, new cache contents: 16 fonts, 0 dirs\n",
            "/usr/share/fonts/truetype/nanum: caching, new cache contents: 10 fonts, 0 dirs\n",
            "/usr/local/share/fonts: caching, new cache contents: 0 fonts, 0 dirs\n",
            "/root/.local/share/fonts: skipping, no such directory\n",
            "/root/.fonts: skipping, no such directory\n",
            "/var/cache/fontconfig: cleaning cache directory\n",
            "/root/.cache/fontconfig: not cleaning non-existent cache directory\n",
            "/root/.fontconfig: not cleaning non-existent cache directory\n",
            "fc-cache: succeeded\n"
          ],
          "name": "stdout"
        }
      ]
    },
    {
      "cell_type": "code",
      "metadata": {
        "id": "cQT9Z0yNi6_0",
        "outputId": "9ab7daba-b319-4700-9e00-b429bf7b1f94",
        "colab": {
          "base_uri": "https://localhost:8080/",
          "height": 707
        }
      },
      "source": [
        "picher.boxplot(column=['연봉(2018)'])\n",
        "\n",
        "# 5억원 미만의 연봉이 일반적인 것으로 파악"
      ],
      "execution_count": null,
      "outputs": [
        {
          "output_type": "execute_result",
          "data": {
            "text/plain": [
              "<matplotlib.axes._subplots.AxesSubplot at 0x7fa5628db7b8>"
            ]
          },
          "metadata": {
            "tags": []
          },
          "execution_count": 160
        },
        {
          "output_type": "display_data",
          "data": {
            "image/png": "[encoded data removed]",
            "text/plain": [
              "<Figure size 1440x1152 with 1 Axes>"
            ]
          },
          "metadata": {
            "tags": [],
            "needs_background": "light"
          }
        }
      ]
    },
    {
      "cell_type": "code",
      "metadata": {
        "id": "K1w2Rq2mjCF8",
        "outputId": "9bddc30a-4796-42e5-e048-78eb09bf6f00",
        "colab": {
          "base_uri": "https://localhost:8080/",
          "height": 86
        }
      },
      "source": [
        "picher.columns"
      ],
      "execution_count": null,
      "outputs": [
        {
          "output_type": "execute_result",
          "data": {
            "text/plain": [
              "Index(['선수명', '팀명', '승', '패', '세', '홀드', '블론', '경기', '선발', '이닝', '삼진/9',\n",
              "       '볼넷/9', '홈런/9', 'BABIP', 'LOB%', 'ERA', 'RA9-WAR', 'FIP', 'kFIP', 'WAR',\n",
              "       '연봉(2018)', '연봉(2017)'],\n",
              "      dtype='object')"
            ]
          },
          "metadata": {
            "tags": []
          },
          "execution_count": 161
        }
      ]
    },
    {
      "cell_type": "code",
      "metadata": {
        "id": "wgl5w88lpCOw"
      },
      "source": [
        "# 회귀 분석에 사용할 피처 살펴보자\n",
        "picher_feature_df = picher[['승', '패', '세', '홀드', '블론', '경기', '선발', '이닝', '삼진/9',\n",
        "       '볼넷/9', '홈런/9', 'BABIP', 'LOB%', 'ERA', 'RA9-WAR', 'FIP', 'kFIP', 'WAR',\n",
        "       '연봉(2018)', '연봉(2017)']]"
      ],
      "execution_count": null,
      "outputs": []
    },
    {
      "cell_type": "code",
      "metadata": {
        "id": "CaFk03ulpmt4",
        "outputId": "2a697c0a-c240-47b2-873c-40cd62982add",
        "colab": {
          "base_uri": "https://localhost:8080/",
          "height": 573
        }
      },
      "source": [
        "# 피처 각각에 대한 히스토그램을 출력\n",
        "\n",
        "def plot_hist_each_column(df):\n",
        "  plt.rcParams['figure.figsize'] = [20,16]\n",
        "  fig = plt.figure(1)\n",
        "\n",
        "  # df 의 열 개수 만큼의 subplot을 출력한다. \n",
        "\n",
        "  for i in range(len(df.columns)):\n",
        "    ax = fig.add_subplot(5, 5, i+1)\n",
        "    plt.hist(df[df.columns[i]], bins=50)\n",
        "    ax.set_title(df.columns[i])\n",
        "  plt.show()\n",
        "\n",
        "plot_hist_each_column(picher_feature_df)\n",
        "\n",
        "# 각 피처들 간의 단위가 크게 다르다 0~8 , 0~200000 등등\n",
        "# ---> 정규화 또는 스케일링 을 필요로 한다."
      ],
      "execution_count": null,
      "outputs": [
        {
          "output_type": "display_data",
          "data": {
            "image/png": "[encoded data removed]",
            "text/plain": [
              "<Figure size 1440x1152 with 20 Axes>"
            ]
          },
          "metadata": {
            "tags": [],
            "needs_background": "light"
          }
        }
      ]
    },
    {
      "cell_type": "code",
      "metadata": {
        "id": "mArFPOFrs1Zc"
      },
      "source": [
        "###########################################\n",
        "# step 2 예측\n",
        "###########################################\n",
        "\n"
      ],
      "execution_count": null,
      "outputs": []
    },
    {
      "cell_type": "code",
      "metadata": {
        "id": "ezaXlHHZs_ig"
      },
      "source": [
        "# 정규화 (스케일링)\n",
        "# 피처들의 단위 맞춰주자 -> 피처 스케일링\n",
        "\n",
        "\n",
        "# 피처 각각에 대한 스케일링 수행하는 함수 정의\n",
        "\n",
        "def standard_scaling(df, scale_columns):\n",
        "    for col in scale_columns:\n",
        "        series_mean = df[col].mean()\n",
        "        series_std = df[col].std()\n",
        "        df[col] = df[col].apply(lambda x: (x-series_mean)/series_std)\n",
        "    return df\n",
        "\n",
        "# 피처 각각에 대한 스케일링 수행\n",
        "scale_columns = ['승', '패', '세', '홀드', '블론', '경기', '선발', '이닝', '삼진/9',\n",
        "       '볼넷/9', '홈런/9', 'BABIP', 'LOB%', 'ERA', 'RA9-WAR', 'FIP', 'kFIP', 'WAR',\n",
        "       '연봉(2018)', '연봉(2017)']\n",
        "\n",
        "picher_df = standard_scaling(picher, scale_columns)\n"
      ],
      "execution_count": null,
      "outputs": []
    },
    {
      "cell_type": "code",
      "metadata": {
        "id": "2o7d5WVZtTii",
        "outputId": "384a82ec-ed1f-449d-ba9d-ab04224dee2c",
        "colab": {
          "base_uri": "https://localhost:8080/",
          "height": 384
        }
      },
      "source": [
        "picher_df = picher_df.rename(columns={'연봉(2018)':'y'})\n",
        "picher_df.head()\n"
      ],
      "execution_count": null,
      "outputs": [
        {
          "output_type": "execute_result",
          "data": {
            "text/html": [
              "<div>\n",
              "<style scoped>\n",
              "    .dataframe tbody tr th:only-of-type {\n",
              "        vertical-align: middle;\n",
              "    }\n",
              "\n",
              "    .dataframe tbody tr th {\n",
              "        vertical-align: top;\n",
              "    }\n",
              "\n",
              "    .dataframe thead th {\n",
              "        text-align: right;\n",
              "    }\n",
              "</style>\n",
              "<table border=\"1\" class=\"dataframe\">\n",
              "  <thead>\n",
              "    <tr style=\"text-align: right;\">\n",
              "      <th></th>\n",
              "      <th>선수명</th>\n",
              "      <th>팀명</th>\n",
              "      <th>승</th>\n",
              "      <th>패</th>\n",
              "      <th>세</th>\n",
              "      <th>홀드</th>\n",
              "      <th>블론</th>\n",
              "      <th>경기</th>\n",
              "      <th>선발</th>\n",
              "      <th>이닝</th>\n",
              "      <th>삼진/9</th>\n",
              "      <th>볼넷/9</th>\n",
              "      <th>홈런/9</th>\n",
              "      <th>BABIP</th>\n",
              "      <th>LOB%</th>\n",
              "      <th>ERA</th>\n",
              "      <th>RA9-WAR</th>\n",
              "      <th>FIP</th>\n",
              "      <th>kFIP</th>\n",
              "      <th>WAR</th>\n",
              "      <th>y</th>\n",
              "      <th>연봉(2017)</th>\n",
              "    </tr>\n",
              "  </thead>\n",
              "  <tbody>\n",
              "    <tr>\n",
              "      <th>0</th>\n",
              "      <td>켈리</td>\n",
              "      <td>SK</td>\n",
              "      <td>3.313623</td>\n",
              "      <td>1.227145</td>\n",
              "      <td>-0.306452</td>\n",
              "      <td>-0.585705</td>\n",
              "      <td>-0.543592</td>\n",
              "      <td>0.059433</td>\n",
              "      <td>2.452068</td>\n",
              "      <td>2.645175</td>\n",
              "      <td>0.672099</td>\n",
              "      <td>-0.869000</td>\n",
              "      <td>-0.442382</td>\n",
              "      <td>0.016783</td>\n",
              "      <td>0.446615</td>\n",
              "      <td>-0.587056</td>\n",
              "      <td>3.174630</td>\n",
              "      <td>-0.971030</td>\n",
              "      <td>-1.058125</td>\n",
              "      <td>4.503142</td>\n",
              "      <td>3.912893</td>\n",
              "      <td>2.734705</td>\n",
              "    </tr>\n",
              "    <tr>\n",
              "      <th>1</th>\n",
              "      <td>소사</td>\n",
              "      <td>LG</td>\n",
              "      <td>2.019505</td>\n",
              "      <td>2.504721</td>\n",
              "      <td>-0.098502</td>\n",
              "      <td>-0.585705</td>\n",
              "      <td>-0.543592</td>\n",
              "      <td>0.059433</td>\n",
              "      <td>2.349505</td>\n",
              "      <td>2.547755</td>\n",
              "      <td>0.134531</td>\n",
              "      <td>-0.987502</td>\n",
              "      <td>-0.668521</td>\n",
              "      <td>-0.241686</td>\n",
              "      <td>-0.122764</td>\n",
              "      <td>-0.519855</td>\n",
              "      <td>3.114968</td>\n",
              "      <td>-1.061888</td>\n",
              "      <td>-1.073265</td>\n",
              "      <td>4.094734</td>\n",
              "      <td>3.266495</td>\n",
              "      <td>1.337303</td>\n",
              "    </tr>\n",
              "    <tr>\n",
              "      <th>2</th>\n",
              "      <td>양현종</td>\n",
              "      <td>KIA</td>\n",
              "      <td>4.348918</td>\n",
              "      <td>0.907751</td>\n",
              "      <td>-0.306452</td>\n",
              "      <td>-0.585705</td>\n",
              "      <td>-0.543592</td>\n",
              "      <td>0.111056</td>\n",
              "      <td>2.554632</td>\n",
              "      <td>2.706808</td>\n",
              "      <td>0.109775</td>\n",
              "      <td>-0.885929</td>\n",
              "      <td>-0.412886</td>\n",
              "      <td>-0.095595</td>\n",
              "      <td>0.308584</td>\n",
              "      <td>-0.625456</td>\n",
              "      <td>2.973948</td>\n",
              "      <td>-0.837415</td>\n",
              "      <td>-0.866361</td>\n",
              "      <td>3.761956</td>\n",
              "      <td>6.821679</td>\n",
              "      <td>5.329881</td>\n",
              "    </tr>\n",
              "    <tr>\n",
              "      <th>3</th>\n",
              "      <td>차우찬</td>\n",
              "      <td>LG</td>\n",
              "      <td>1.760682</td>\n",
              "      <td>1.227145</td>\n",
              "      <td>-0.306452</td>\n",
              "      <td>-0.585705</td>\n",
              "      <td>-0.543592</td>\n",
              "      <td>-0.043811</td>\n",
              "      <td>2.246942</td>\n",
              "      <td>2.350927</td>\n",
              "      <td>0.350266</td>\n",
              "      <td>-0.945180</td>\n",
              "      <td>-0.186746</td>\n",
              "      <td>-0.477680</td>\n",
              "      <td>0.558765</td>\n",
              "      <td>-0.627856</td>\n",
              "      <td>2.740722</td>\n",
              "      <td>-0.698455</td>\n",
              "      <td>-0.760385</td>\n",
              "      <td>2.998081</td>\n",
              "      <td>2.620098</td>\n",
              "      <td>3.333592</td>\n",
              "    </tr>\n",
              "    <tr>\n",
              "      <th>4</th>\n",
              "      <td>레일리</td>\n",
              "      <td>롯데</td>\n",
              "      <td>2.537153</td>\n",
              "      <td>1.227145</td>\n",
              "      <td>-0.306452</td>\n",
              "      <td>-0.585705</td>\n",
              "      <td>-0.543592</td>\n",
              "      <td>0.059433</td>\n",
              "      <td>2.452068</td>\n",
              "      <td>2.587518</td>\n",
              "      <td>0.155751</td>\n",
              "      <td>-0.877464</td>\n",
              "      <td>-0.294900</td>\n",
              "      <td>-0.196735</td>\n",
              "      <td>0.481122</td>\n",
              "      <td>-0.539055</td>\n",
              "      <td>2.751570</td>\n",
              "      <td>-0.612941</td>\n",
              "      <td>-0.619085</td>\n",
              "      <td>2.809003</td>\n",
              "      <td>2.975617</td>\n",
              "      <td>2.734705</td>\n",
              "    </tr>\n",
              "  </tbody>\n",
              "</table>\n",
              "</div>"
            ],
            "text/plain": [
              "   선수명   팀명         승         패  ...      kFIP       WAR         y  연봉(2017)\n",
              "0   켈리   SK  3.313623  1.227145  ... -1.058125  4.503142  3.912893  2.734705\n",
              "1   소사   LG  2.019505  2.504721  ... -1.073265  4.094734  3.266495  1.337303\n",
              "2  양현종  KIA  4.348918  0.907751  ... -0.866361  3.761956  6.821679  5.329881\n",
              "3  차우찬   LG  1.760682  1.227145  ... -0.760385  2.998081  2.620098  3.333592\n",
              "4  레일리   롯데  2.537153  1.227145  ... -0.619085  2.809003  2.975617  2.734705\n",
              "\n",
              "[5 rows x 22 columns]"
            ]
          },
          "metadata": {
            "tags": []
          },
          "execution_count": 176
        }
      ]
    },
    {
      "cell_type": "code",
      "metadata": {
        "id": "3iBJLMvZvAkS",
        "outputId": "71648222-c349-4f42-bc78-a2f58beb780d",
        "colab": {
          "base_uri": "https://localhost:8080/",
          "height": 196
        }
      },
      "source": [
        "# 연속형이 아닌 범주형(카테고리형)피처들 정규화   -> 원-핫 인코딩 (one-hot encoding)\n",
        "# 0.2, 1.2, 10, 100 ... 연속형 피처는 컴퓨터가 계산할수 있는 형태 그런데, \n",
        "# 과일 종류 같은 범주형 피처는 컴퓨터가 계산 할수 없다.이러한 피처들은 컴퓨터가 이해할수 있는 형태로\n",
        "# 변경해야한다. 가장 대표적인 변환 방식이 원-핫 인코딩 방식이다. \n",
        "\n",
        "# 팀명 피처를 ont - hot encoding 으로 변환\n",
        "team_encoding = pd.get_dummies(picher_df['팀명'])\n",
        "picher_df = picher_df.drop('팀명', axis=1)\n",
        "picher_df = picher_df.join(team_encoding)\n",
        "team_encoding.head()\n"
      ],
      "execution_count": null,
      "outputs": [
        {
          "output_type": "execute_result",
          "data": {
            "text/html": [
              "<div>\n",
              "<style scoped>\n",
              "    .dataframe tbody tr th:only-of-type {\n",
              "        vertical-align: middle;\n",
              "    }\n",
              "\n",
              "    .dataframe tbody tr th {\n",
              "        vertical-align: top;\n",
              "    }\n",
              "\n",
              "    .dataframe thead th {\n",
              "        text-align: right;\n",
              "    }\n",
              "</style>\n",
              "<table border=\"1\" class=\"dataframe\">\n",
              "  <thead>\n",
              "    <tr style=\"text-align: right;\">\n",
              "      <th></th>\n",
              "      <th>KIA</th>\n",
              "      <th>KT</th>\n",
              "      <th>LG</th>\n",
              "      <th>NC</th>\n",
              "      <th>SK</th>\n",
              "      <th>두산</th>\n",
              "      <th>롯데</th>\n",
              "      <th>삼성</th>\n",
              "      <th>한화</th>\n",
              "    </tr>\n",
              "  </thead>\n",
              "  <tbody>\n",
              "    <tr>\n",
              "      <th>0</th>\n",
              "      <td>0</td>\n",
              "      <td>0</td>\n",
              "      <td>0</td>\n",
              "      <td>0</td>\n",
              "      <td>1</td>\n",
              "      <td>0</td>\n",
              "      <td>0</td>\n",
              "      <td>0</td>\n",
              "      <td>0</td>\n",
              "    </tr>\n",
              "    <tr>\n",
              "      <th>1</th>\n",
              "      <td>0</td>\n",
              "      <td>0</td>\n",
              "      <td>1</td>\n",
              "      <td>0</td>\n",
              "      <td>0</td>\n",
              "      <td>0</td>\n",
              "      <td>0</td>\n",
              "      <td>0</td>\n",
              "      <td>0</td>\n",
              "    </tr>\n",
              "    <tr>\n",
              "      <th>2</th>\n",
              "      <td>1</td>\n",
              "      <td>0</td>\n",
              "      <td>0</td>\n",
              "      <td>0</td>\n",
              "      <td>0</td>\n",
              "      <td>0</td>\n",
              "      <td>0</td>\n",
              "      <td>0</td>\n",
              "      <td>0</td>\n",
              "    </tr>\n",
              "    <tr>\n",
              "      <th>3</th>\n",
              "      <td>0</td>\n",
              "      <td>0</td>\n",
              "      <td>1</td>\n",
              "      <td>0</td>\n",
              "      <td>0</td>\n",
              "      <td>0</td>\n",
              "      <td>0</td>\n",
              "      <td>0</td>\n",
              "      <td>0</td>\n",
              "    </tr>\n",
              "    <tr>\n",
              "      <th>4</th>\n",
              "      <td>0</td>\n",
              "      <td>0</td>\n",
              "      <td>0</td>\n",
              "      <td>0</td>\n",
              "      <td>0</td>\n",
              "      <td>0</td>\n",
              "      <td>1</td>\n",
              "      <td>0</td>\n",
              "      <td>0</td>\n",
              "    </tr>\n",
              "  </tbody>\n",
              "</table>\n",
              "</div>"
            ],
            "text/plain": [
              "   KIA  KT  LG  NC  SK  두산  롯데  삼성  한화\n",
              "0    0   0   0   0   1   0   0   0   0\n",
              "1    0   0   1   0   0   0   0   0   0\n",
              "2    1   0   0   0   0   0   0   0   0\n",
              "3    0   0   1   0   0   0   0   0   0\n",
              "4    0   0   0   0   0   0   1   0   0"
            ]
          },
          "metadata": {
            "tags": []
          },
          "execution_count": 167
        }
      ]
    },
    {
      "cell_type": "code",
      "metadata": {
        "id": "fHdqWIjH3ibA"
      },
      "source": [
        "# 학습데이터와 테스트 데이터로 분리 \n",
        "\n",
        "from sklearn import linear_model\n",
        "from sklearn.model_selection import train_test_split\n",
        "from sklearn.metrics import mean_squared_error\n",
        "from math import sqrt\n",
        "\n",
        "\n",
        "X = picher_df[picher_df.columns.difference(['선수명','y'])]\n",
        "y = picher_df['y']\n",
        "X_train, X_test, y_train, y_test = train_test_split(X,y,test_size = 0.2, random_state=19)\n",
        "\n"
      ],
      "execution_count": null,
      "outputs": []
    },
    {
      "cell_type": "code",
      "metadata": {
        "id": "dH5sx9a45arh",
        "outputId": "43b2dbaa-4057-4af1-d1a8-fb6cf463bad1",
        "colab": {
          "base_uri": "https://localhost:8080/",
          "height": 104
        }
      },
      "source": [
        "# 회귀 분석 계수 학습 & 학습된 계수 출력 (회귀 모델 학습)\n",
        "\n",
        "Ir = linear_model.LinearRegression()\n",
        "model = Ir.fit(X_train, y_train)\n",
        "\n",
        "print(Ir.coef_)\n",
        "\n",
        "# 학습이 완료된 회귀식의 계수를 출력\n"
      ],
      "execution_count": null,
      "outputs": [
        {
          "output_type": "stream",
          "text": [
            "[-0.04786627 -0.01346728 -3.04246951 -0.05044684  0.05080696 -0.02414453\n",
            " -0.0444572  -0.01692096  0.12795775  0.02903539  0.3320053   2.51036516\n",
            " -0.07867911 -0.02883312  0.01454106  0.2460238   0.04107999 -0.09083678\n",
            "  0.17442938 -0.15504813 -0.00810251  0.0076283   0.6182979   0.027602\n",
            "  0.04206816  0.11679881 -0.03022142  0.58643087]\n"
          ],
          "name": "stdout"
        }
      ]
    },
    {
      "cell_type": "code",
      "metadata": {
        "id": "UeL4jHNq6Em2"
      },
      "source": [
        ""
      ],
      "execution_count": null,
      "outputs": []
    },
    {
      "cell_type": "code",
      "metadata": {
        "id": "WjW1urya54S2",
        "outputId": "22eba24c-a014-411e-8ea1-a3dfb14e175d",
        "colab": {
          "base_uri": "https://localhost:8080/",
          "height": 86
        }
      },
      "source": [
        "picher_df.columns"
      ],
      "execution_count": null,
      "outputs": [
        {
          "output_type": "execute_result",
          "data": {
            "text/plain": [
              "Index(['선수명', '승', '패', '세', '홀드', '블론', '경기', '선발', '이닝', '삼진/9', '볼넷/9',\n",
              "       '홈런/9', 'BABIP', 'LOB%', 'ERA', 'RA9-WAR', 'FIP', 'kFIP', 'WAR', 'y',\n",
              "       '연봉(2017)', 'KIA', 'KT', 'LG', 'NC', 'SK', '두산', '롯데', '삼성', '한화'],\n",
              "      dtype='object')"
            ]
          },
          "metadata": {
            "tags": []
          },
          "execution_count": 170
        }
      ]
    },
    {
      "cell_type": "code",
      "metadata": {
        "id": "ykYi1g4559KQ",
        "outputId": "2595295f-ae88-4234-b43b-d4367f439c18",
        "colab": {
          "base_uri": "https://localhost:8080/",
          "height": 982
        }
      },
      "source": [
        "###########################################\n",
        "# step 3 평가 \n",
        "###########################################\n",
        "\n",
        "\n",
        "# 어떤 피처가 가장 영향력이 강한 피처일까? \n",
        "\n",
        "import statsmodels.api as sm\n",
        "\n",
        "X_train = sm.add_constant(X_train)\n",
        "model = sm.OLS(y_train, X_train).fit()\n",
        "model.summary()\n",
        "\n",
        "\n",
        "# R-squared 결정계수     0.928\n",
        "# Adj. R-squared 수정결정계수 0.907\n",
        "# F-statistic F통계량 은 Prob (F-statistic) 함께 봐야 한다. \n",
        "# 일반적으로 0.05 이하이며 이면 F통계량이 유의한 의미를 가진다. \n",
        "\n",
        "# 회귀분석이 얼마나 잘 되었지 평가하는 지표\n",
        "# 회귀분석으로 추정한 모델이 주어진 데이터를 얼마나 잘 설명하는가 \n",
        "# 1에 가까울수록 데이터를 잘 설명하는 모델이다. \n"
      ],
      "execution_count": null,
      "outputs": [
        {
          "output_type": "execute_result",
          "data": {
            "text/html": [
              "<table class=\"simpletable\">\n",
              "<caption>OLS Regression Results</caption>\n",
              "<tr>\n",
              "  <th>Dep. Variable:</th>            <td>y</td>        <th>  R-squared:         </th> <td>   0.928</td>\n",
              "</tr>\n",
              "<tr>\n",
              "  <th>Model:</th>                   <td>OLS</td>       <th>  Adj. R-squared:    </th> <td>   0.907</td>\n",
              "</tr>\n",
              "<tr>\n",
              "  <th>Method:</th>             <td>Least Squares</td>  <th>  F-statistic:       </th> <td>   44.19</td>\n",
              "</tr>\n",
              "<tr>\n",
              "  <th>Date:</th>             <td>Tue, 06 Oct 2020</td> <th>  Prob (F-statistic):</th> <td>7.70e-42</td>\n",
              "</tr>\n",
              "<tr>\n",
              "  <th>Time:</th>                 <td>09:06:01</td>     <th>  Log-Likelihood:    </th> <td>  3.3433</td>\n",
              "</tr>\n",
              "<tr>\n",
              "  <th>No. Observations:</th>      <td>   121</td>      <th>  AIC:               </th> <td>   49.31</td>\n",
              "</tr>\n",
              "<tr>\n",
              "  <th>Df Residuals:</th>          <td>    93</td>      <th>  BIC:               </th> <td>   127.6</td>\n",
              "</tr>\n",
              "<tr>\n",
              "  <th>Df Model:</th>              <td>    27</td>      <th>                     </th>     <td> </td>   \n",
              "</tr>\n",
              "<tr>\n",
              "  <th>Covariance Type:</th>      <td>nonrobust</td>    <th>                     </th>     <td> </td>   \n",
              "</tr>\n",
              "</table>\n",
              "<table class=\"simpletable\">\n",
              "<tr>\n",
              "      <td></td>        <th>coef</th>     <th>std err</th>      <th>t</th>      <th>P>|t|</th>  <th>[0.025</th>    <th>0.975]</th>  \n",
              "</tr>\n",
              "<tr>\n",
              "  <th>const</th>    <td>   -0.0085</td> <td>    0.023</td> <td>   -0.376</td> <td> 0.708</td> <td>   -0.053</td> <td>    0.036</td>\n",
              "</tr>\n",
              "<tr>\n",
              "  <th>BABIP</th>    <td>   -0.0479</td> <td>    0.042</td> <td>   -1.145</td> <td> 0.255</td> <td>   -0.131</td> <td>    0.035</td>\n",
              "</tr>\n",
              "<tr>\n",
              "  <th>ERA</th>      <td>   -0.0135</td> <td>    0.075</td> <td>   -0.179</td> <td> 0.858</td> <td>   -0.163</td> <td>    0.136</td>\n",
              "</tr>\n",
              "<tr>\n",
              "  <th>FIP</th>      <td>   -3.0425</td> <td>    3.048</td> <td>   -0.998</td> <td> 0.321</td> <td>   -9.094</td> <td>    3.009</td>\n",
              "</tr>\n",
              "<tr>\n",
              "  <th>KIA</th>      <td>   -0.0514</td> <td>    0.072</td> <td>   -0.716</td> <td> 0.476</td> <td>   -0.194</td> <td>    0.091</td>\n",
              "</tr>\n",
              "<tr>\n",
              "  <th>KT</th>       <td>    0.0499</td> <td>    0.069</td> <td>    0.723</td> <td> 0.471</td> <td>   -0.087</td> <td>    0.187</td>\n",
              "</tr>\n",
              "<tr>\n",
              "  <th>LG</th>       <td>   -0.0251</td> <td>    0.078</td> <td>   -0.323</td> <td> 0.747</td> <td>   -0.179</td> <td>    0.129</td>\n",
              "</tr>\n",
              "<tr>\n",
              "  <th>LOB%</th>     <td>   -0.0445</td> <td>    0.051</td> <td>   -0.879</td> <td> 0.382</td> <td>   -0.145</td> <td>    0.056</td>\n",
              "</tr>\n",
              "<tr>\n",
              "  <th>NC</th>       <td>   -0.0179</td> <td>    0.086</td> <td>   -0.208</td> <td> 0.836</td> <td>   -0.189</td> <td>    0.153</td>\n",
              "</tr>\n",
              "<tr>\n",
              "  <th>RA9-WAR</th>  <td>    0.1280</td> <td>    0.095</td> <td>    1.351</td> <td> 0.180</td> <td>   -0.060</td> <td>    0.316</td>\n",
              "</tr>\n",
              "<tr>\n",
              "  <th>SK</th>       <td>    0.0281</td> <td>    0.073</td> <td>    0.387</td> <td> 0.699</td> <td>   -0.116</td> <td>    0.172</td>\n",
              "</tr>\n",
              "<tr>\n",
              "  <th>WAR</th>      <td>    0.3320</td> <td>    0.082</td> <td>    4.057</td> <td> 0.000</td> <td>    0.169</td> <td>    0.495</td>\n",
              "</tr>\n",
              "<tr>\n",
              "  <th>kFIP</th>     <td>    2.5104</td> <td>    2.570</td> <td>    0.977</td> <td> 0.331</td> <td>   -2.594</td> <td>    7.615</td>\n",
              "</tr>\n",
              "<tr>\n",
              "  <th>경기</th>       <td>   -0.0787</td> <td>    0.095</td> <td>   -0.824</td> <td> 0.412</td> <td>   -0.268</td> <td>    0.111</td>\n",
              "</tr>\n",
              "<tr>\n",
              "  <th>두산</th>       <td>   -0.0298</td> <td>    0.084</td> <td>   -0.356</td> <td> 0.723</td> <td>   -0.196</td> <td>    0.136</td>\n",
              "</tr>\n",
              "<tr>\n",
              "  <th>롯데</th>       <td>    0.0136</td> <td>    0.083</td> <td>    0.164</td> <td> 0.870</td> <td>   -0.151</td> <td>    0.178</td>\n",
              "</tr>\n",
              "<tr>\n",
              "  <th>볼넷/9</th>     <td>    0.2460</td> <td>    0.203</td> <td>    1.213</td> <td> 0.228</td> <td>   -0.157</td> <td>    0.649</td>\n",
              "</tr>\n",
              "<tr>\n",
              "  <th>블론</th>       <td>    0.0411</td> <td>    0.040</td> <td>    1.023</td> <td> 0.309</td> <td>   -0.039</td> <td>    0.121</td>\n",
              "</tr>\n",
              "<tr>\n",
              "  <th>삼성</th>       <td>   -0.0918</td> <td>    0.080</td> <td>   -1.144</td> <td> 0.256</td> <td>   -0.251</td> <td>    0.068</td>\n",
              "</tr>\n",
              "<tr>\n",
              "  <th>삼진/9</th>     <td>    0.1744</td> <td>    0.235</td> <td>    0.741</td> <td> 0.461</td> <td>   -0.293</td> <td>    0.642</td>\n",
              "</tr>\n",
              "<tr>\n",
              "  <th>선발</th>       <td>   -0.1550</td> <td>    0.177</td> <td>   -0.874</td> <td> 0.384</td> <td>   -0.507</td> <td>    0.197</td>\n",
              "</tr>\n",
              "<tr>\n",
              "  <th>세</th>        <td>   -0.0081</td> <td>    0.042</td> <td>   -0.194</td> <td> 0.847</td> <td>   -0.091</td> <td>    0.075</td>\n",
              "</tr>\n",
              "<tr>\n",
              "  <th>승</th>        <td>    0.0076</td> <td>    0.072</td> <td>    0.107</td> <td> 0.915</td> <td>   -0.135</td> <td>    0.150</td>\n",
              "</tr>\n",
              "<tr>\n",
              "  <th>연봉(2017)</th> <td>    0.6183</td> <td>    0.041</td> <td>   15.055</td> <td> 0.000</td> <td>    0.537</td> <td>    0.700</td>\n",
              "</tr>\n",
              "<tr>\n",
              "  <th>이닝</th>       <td>    0.0276</td> <td>    0.214</td> <td>    0.129</td> <td> 0.898</td> <td>   -0.398</td> <td>    0.453</td>\n",
              "</tr>\n",
              "<tr>\n",
              "  <th>패</th>        <td>    0.0421</td> <td>    0.063</td> <td>    0.672</td> <td> 0.503</td> <td>   -0.082</td> <td>    0.166</td>\n",
              "</tr>\n",
              "<tr>\n",
              "  <th>한화</th>       <td>    0.1159</td> <td>    0.071</td> <td>    1.641</td> <td> 0.104</td> <td>   -0.024</td> <td>    0.256</td>\n",
              "</tr>\n",
              "<tr>\n",
              "  <th>홀드</th>       <td>   -0.0302</td> <td>    0.053</td> <td>   -0.571</td> <td> 0.569</td> <td>   -0.135</td> <td>    0.075</td>\n",
              "</tr>\n",
              "<tr>\n",
              "  <th>홈런/9</th>     <td>    0.5864</td> <td>    0.542</td> <td>    1.082</td> <td> 0.282</td> <td>   -0.490</td> <td>    1.663</td>\n",
              "</tr>\n",
              "</table>\n",
              "<table class=\"simpletable\">\n",
              "<tr>\n",
              "  <th>Omnibus:</th>       <td>28.069</td> <th>  Durbin-Watson:     </th> <td>   2.025</td>\n",
              "</tr>\n",
              "<tr>\n",
              "  <th>Prob(Omnibus):</th> <td> 0.000</td> <th>  Jarque-Bera (JB):  </th> <td> 194.274</td>\n",
              "</tr>\n",
              "<tr>\n",
              "  <th>Skew:</th>          <td>-0.405</td> <th>  Prob(JB):          </th> <td>6.52e-43</td>\n",
              "</tr>\n",
              "<tr>\n",
              "  <th>Kurtosis:</th>      <td> 9.155</td> <th>  Cond. No.          </th> <td>3.39e+16</td>\n",
              "</tr>\n",
              "</table><br/><br/>Warnings:<br/>[1] Standard Errors assume that the covariance matrix of the errors is correctly specified.<br/>[2] The smallest eigenvalue is 6.91e-31. This might indicate that there are<br/>strong multicollinearity problems or that the design matrix is singular."
            ],
            "text/plain": [
              "<class 'statsmodels.iolib.summary.Summary'>\n",
              "\"\"\"\n",
              "                            OLS Regression Results                            \n",
              "==============================================================================\n",
              "Dep. Variable:                      y   R-squared:                       0.928\n",
              "Model:                            OLS   Adj. R-squared:                  0.907\n",
              "Method:                 Least Squares   F-statistic:                     44.19\n",
              "Date:                Tue, 06 Oct 2020   Prob (F-statistic):           7.70e-42\n",
              "Time:                        09:06:01   Log-Likelihood:                 3.3433\n",
              "No. Observations:                 121   AIC:                             49.31\n",
              "Df Residuals:                      93   BIC:                             127.6\n",
              "Df Model:                          27                                         \n",
              "Covariance Type:            nonrobust                                         \n",
              "==============================================================================\n",
              "                 coef    std err          t      P>|t|      [0.025      0.975]\n",
              "------------------------------------------------------------------------------\n",
              "const         -0.0085      0.023     -0.376      0.708      -0.053       0.036\n",
              "BABIP         -0.0479      0.042     -1.145      0.255      -0.131       0.035\n",
              "ERA           -0.0135      0.075     -0.179      0.858      -0.163       0.136\n",
              "FIP           -3.0425      3.048     -0.998      0.321      -9.094       3.009\n",
              "KIA           -0.0514      0.072     -0.716      0.476      -0.194       0.091\n",
              "KT             0.0499      0.069      0.723      0.471      -0.087       0.187\n",
              "LG            -0.0251      0.078     -0.323      0.747      -0.179       0.129\n",
              "LOB%          -0.0445      0.051     -0.879      0.382      -0.145       0.056\n",
              "NC            -0.0179      0.086     -0.208      0.836      -0.189       0.153\n",
              "RA9-WAR        0.1280      0.095      1.351      0.180      -0.060       0.316\n",
              "SK             0.0281      0.073      0.387      0.699      -0.116       0.172\n",
              "WAR            0.3320      0.082      4.057      0.000       0.169       0.495\n",
              "kFIP           2.5104      2.570      0.977      0.331      -2.594       7.615\n",
              "경기            -0.0787      0.095     -0.824      0.412      -0.268       0.111\n",
              "두산            -0.0298      0.084     -0.356      0.723      -0.196       0.136\n",
              "롯데             0.0136      0.083      0.164      0.870      -0.151       0.178\n",
              "볼넷/9           0.2460      0.203      1.213      0.228      -0.157       0.649\n",
              "블론             0.0411      0.040      1.023      0.309      -0.039       0.121\n",
              "삼성            -0.0918      0.080     -1.144      0.256      -0.251       0.068\n",
              "삼진/9           0.1744      0.235      0.741      0.461      -0.293       0.642\n",
              "선발            -0.1550      0.177     -0.874      0.384      -0.507       0.197\n",
              "세             -0.0081      0.042     -0.194      0.847      -0.091       0.075\n",
              "승              0.0076      0.072      0.107      0.915      -0.135       0.150\n",
              "연봉(2017)       0.6183      0.041     15.055      0.000       0.537       0.700\n",
              "이닝             0.0276      0.214      0.129      0.898      -0.398       0.453\n",
              "패              0.0421      0.063      0.672      0.503      -0.082       0.166\n",
              "한화             0.1159      0.071      1.641      0.104      -0.024       0.256\n",
              "홀드            -0.0302      0.053     -0.571      0.569      -0.135       0.075\n",
              "홈런/9           0.5864      0.542      1.082      0.282      -0.490       1.663\n",
              "==============================================================================\n",
              "Omnibus:                       28.069   Durbin-Watson:                   2.025\n",
              "Prob(Omnibus):                  0.000   Jarque-Bera (JB):              194.274\n",
              "Skew:                          -0.405   Prob(JB):                     6.52e-43\n",
              "Kurtosis:                       9.155   Cond. No.                     3.39e+16\n",
              "==============================================================================\n",
              "\n",
              "Warnings:\n",
              "[1] Standard Errors assume that the covariance matrix of the errors is correctly specified.\n",
              "[2] The smallest eigenvalue is 6.91e-31. This might indicate that there are\n",
              "strong multicollinearity problems or that the design matrix is singular.\n",
              "\"\"\""
            ]
          },
          "metadata": {
            "tags": []
          },
          "execution_count": 171
        }
      ]
    },
    {
      "cell_type": "code",
      "metadata": {
        "id": "-aPO5x_49nIz",
        "outputId": "843de620-c885-41df-b0ec-919facf6f8f3",
        "colab": {
          "base_uri": "https://localhost:8080/",
          "height": 1000
        }
      },
      "source": [
        "# 한글 출력을 위한 사전 설정 단계입니다.\n",
        "# mpl.rc('font', family='AppleGothic')\n",
        "plt.rcParams['figure.figsize'] = [20, 16]\n",
        "\n",
        "# 회귀 계수를 리스트로 반환합니다.\n",
        "coefs = model.params.tolist()\n",
        "coefs_series = pd.Series(coefs)\n",
        "\n",
        "# 변수명을 리스트로 반환합니다.\n",
        "x_labels = model.params.index.tolist()\n",
        "\n",
        "# 회귀 계수를 출력합니다.\n",
        "ax = coefs_series.plot(kind='bar')\n",
        "ax.set_title('feature_coef_graph')\n",
        "ax.set_xlabel('x_features')\n",
        "ax.set_ylabel('coef')\n",
        "ax.set_xticklabels(x_labels)\n",
        "\n",
        "## 긴 그래프 피처가 영향력이 큰것으로 나타난다. \n",
        "\n"
      ],
      "execution_count": null,
      "outputs": [
        {
          "output_type": "execute_result",
          "data": {
            "text/plain": [
              "[Text(0, 0, 'const'),\n",
              " Text(0, 0, 'BABIP'),\n",
              " Text(0, 0, 'ERA'),\n",
              " Text(0, 0, 'FIP'),\n",
              " Text(0, 0, 'KIA'),\n",
              " Text(0, 0, 'KT'),\n",
              " Text(0, 0, 'LG'),\n",
              " Text(0, 0, 'LOB%'),\n",
              " Text(0, 0, 'NC'),\n",
              " Text(0, 0, 'RA9-WAR'),\n",
              " Text(0, 0, 'SK'),\n",
              " Text(0, 0, 'WAR'),\n",
              " Text(0, 0, 'kFIP'),\n",
              " Text(0, 0, '경기'),\n",
              " Text(0, 0, '두산'),\n",
              " Text(0, 0, '롯데'),\n",
              " Text(0, 0, '볼넷/9'),\n",
              " Text(0, 0, '블론'),\n",
              " Text(0, 0, '삼성'),\n",
              " Text(0, 0, '삼진/9'),\n",
              " Text(0, 0, '선발'),\n",
              " Text(0, 0, '세'),\n",
              " Text(0, 0, '승'),\n",
              " Text(0, 0, '연봉(2017)'),\n",
              " Text(0, 0, '이닝'),\n",
              " Text(0, 0, '패'),\n",
              " Text(0, 0, '한화'),\n",
              " Text(0, 0, '홀드'),\n",
              " Text(0, 0, '홈런/9')]"
            ]
          },
          "metadata": {
            "tags": []
          },
          "execution_count": 172
        },
        {
          "output_type": "stream",
          "text": [
            "/usr/local/lib/python3.6/dist-packages/matplotlib/backends/backend_agg.py:214: RuntimeWarning: Glyph 8722 missing from current font.\n",
            "  font.set_text(s, 0.0, flags=flags)\n",
            "/usr/local/lib/python3.6/dist-packages/matplotlib/backends/backend_agg.py:183: RuntimeWarning: Glyph 8722 missing from current font.\n",
            "  font.set_text(s, 0, flags=flags)\n"
          ],
          "name": "stderr"
        },
        {
          "output_type": "display_data",
          "data": {
            "image/png": "[encoded data removed]",
            "text/plain": [
              "<Figure size 1440x1152 with 1 Axes>"
            ]
          },
          "metadata": {
            "tags": [],
            "needs_background": "light"
          }
        }
      ]
    },
    {
      "cell_type": "code",
      "metadata": {
        "id": "FY8CeoWoK72U"
      },
      "source": [
        "\n",
        "X = picher_df[picher_df.columns.difference(['선수명', 'y'])]\n",
        "y = picher_df['y']\n",
        "X_train, X_test, y_train, y_test = train_test_split(X, y, test_size=0.2, random_state=19)"
      ],
      "execution_count": null,
      "outputs": []
    },
    {
      "cell_type": "code",
      "metadata": {
        "id": "-FQ1sj-BLB7t",
        "outputId": "c01aec78-ec25-4855-b4b8-489590f0acad",
        "colab": {
          "base_uri": "https://localhost:8080/",
          "height": 332
        }
      },
      "source": [
        "lr = linear_model.LinearRegression()\n",
        "model = lr.fit(X_train, y_train)"
      ],
      "execution_count": null,
      "outputs": [
        {
          "output_type": "error",
          "ename": "ValueError",
          "evalue": "ignored",
          "traceback": [
            "\u001b[0;31m---------------------------------------------------------------------------\u001b[0m",
            "\u001b[0;31mValueError\u001b[0m                                Traceback (most recent call last)",
            "\u001b[0;32m<ipython-input-181-4fe6ad3db993>\u001b[0m in \u001b[0;36m<module>\u001b[0;34m()\u001b[0m\n\u001b[1;32m      1\u001b[0m \u001b[0mlr\u001b[0m \u001b[0;34m=\u001b[0m \u001b[0mlinear_model\u001b[0m\u001b[0;34m.\u001b[0m\u001b[0mLinearRegression\u001b[0m\u001b[0;34m(\u001b[0m\u001b[0;34m)\u001b[0m\u001b[0;34m\u001b[0m\u001b[0;34m\u001b[0m\u001b[0m\n\u001b[0;32m----> 2\u001b[0;31m \u001b[0mmodel\u001b[0m \u001b[0;34m=\u001b[0m \u001b[0mlr\u001b[0m\u001b[0;34m.\u001b[0m\u001b[0mfit\u001b[0m\u001b[0;34m(\u001b[0m\u001b[0mX_train\u001b[0m\u001b[0;34m,\u001b[0m \u001b[0my_train\u001b[0m\u001b[0;34m)\u001b[0m\u001b[0;34m\u001b[0m\u001b[0;34m\u001b[0m\u001b[0m\n\u001b[0m",
            "\u001b[0;32m/usr/local/lib/python3.6/dist-packages/sklearn/linear_model/_base.py\u001b[0m in \u001b[0;36mfit\u001b[0;34m(self, X, y, sample_weight)\u001b[0m\n\u001b[1;32m    490\u001b[0m         \u001b[0mn_jobs_\u001b[0m \u001b[0;34m=\u001b[0m \u001b[0mself\u001b[0m\u001b[0;34m.\u001b[0m\u001b[0mn_jobs\u001b[0m\u001b[0;34m\u001b[0m\u001b[0;34m\u001b[0m\u001b[0m\n\u001b[1;32m    491\u001b[0m         X, y = check_X_y(X, y, accept_sparse=['csr', 'csc', 'coo'],\n\u001b[0;32m--> 492\u001b[0;31m                          y_numeric=True, multi_output=True)\n\u001b[0m\u001b[1;32m    493\u001b[0m \u001b[0;34m\u001b[0m\u001b[0m\n\u001b[1;32m    494\u001b[0m         \u001b[0;32mif\u001b[0m \u001b[0msample_weight\u001b[0m \u001b[0;32mis\u001b[0m \u001b[0;32mnot\u001b[0m \u001b[0;32mNone\u001b[0m\u001b[0;34m:\u001b[0m\u001b[0;34m\u001b[0m\u001b[0;34m\u001b[0m\u001b[0m\n",
            "\u001b[0;32m/usr/local/lib/python3.6/dist-packages/sklearn/utils/validation.py\u001b[0m in \u001b[0;36mcheck_X_y\u001b[0;34m(X, y, accept_sparse, accept_large_sparse, dtype, order, copy, force_all_finite, ensure_2d, allow_nd, multi_output, ensure_min_samples, ensure_min_features, y_numeric, warn_on_dtype, estimator)\u001b[0m\n\u001b[1;32m    753\u001b[0m                     \u001b[0mensure_min_features\u001b[0m\u001b[0;34m=\u001b[0m\u001b[0mensure_min_features\u001b[0m\u001b[0;34m,\u001b[0m\u001b[0;34m\u001b[0m\u001b[0;34m\u001b[0m\u001b[0m\n\u001b[1;32m    754\u001b[0m                     \u001b[0mwarn_on_dtype\u001b[0m\u001b[0;34m=\u001b[0m\u001b[0mwarn_on_dtype\u001b[0m\u001b[0;34m,\u001b[0m\u001b[0;34m\u001b[0m\u001b[0;34m\u001b[0m\u001b[0m\n\u001b[0;32m--> 755\u001b[0;31m                     estimator=estimator)\n\u001b[0m\u001b[1;32m    756\u001b[0m     \u001b[0;32mif\u001b[0m \u001b[0mmulti_output\u001b[0m\u001b[0;34m:\u001b[0m\u001b[0;34m\u001b[0m\u001b[0;34m\u001b[0m\u001b[0m\n\u001b[1;32m    757\u001b[0m         y = check_array(y, 'csr', force_all_finite=True, ensure_2d=False,\n",
            "\u001b[0;32m/usr/local/lib/python3.6/dist-packages/sklearn/utils/validation.py\u001b[0m in \u001b[0;36mcheck_array\u001b[0;34m(array, accept_sparse, accept_large_sparse, dtype, order, copy, force_all_finite, ensure_2d, allow_nd, ensure_min_samples, ensure_min_features, warn_on_dtype, estimator)\u001b[0m\n\u001b[1;32m    529\u001b[0m                     \u001b[0marray\u001b[0m \u001b[0;34m=\u001b[0m \u001b[0marray\u001b[0m\u001b[0;34m.\u001b[0m\u001b[0mastype\u001b[0m\u001b[0;34m(\u001b[0m\u001b[0mdtype\u001b[0m\u001b[0;34m,\u001b[0m \u001b[0mcasting\u001b[0m\u001b[0;34m=\u001b[0m\u001b[0;34m\"unsafe\"\u001b[0m\u001b[0;34m,\u001b[0m \u001b[0mcopy\u001b[0m\u001b[0;34m=\u001b[0m\u001b[0;32mFalse\u001b[0m\u001b[0;34m)\u001b[0m\u001b[0;34m\u001b[0m\u001b[0;34m\u001b[0m\u001b[0m\n\u001b[1;32m    530\u001b[0m                 \u001b[0;32melse\u001b[0m\u001b[0;34m:\u001b[0m\u001b[0;34m\u001b[0m\u001b[0;34m\u001b[0m\u001b[0m\n\u001b[0;32m--> 531\u001b[0;31m                     \u001b[0marray\u001b[0m \u001b[0;34m=\u001b[0m \u001b[0mnp\u001b[0m\u001b[0;34m.\u001b[0m\u001b[0masarray\u001b[0m\u001b[0;34m(\u001b[0m\u001b[0marray\u001b[0m\u001b[0;34m,\u001b[0m \u001b[0morder\u001b[0m\u001b[0;34m=\u001b[0m\u001b[0morder\u001b[0m\u001b[0;34m,\u001b[0m \u001b[0mdtype\u001b[0m\u001b[0;34m=\u001b[0m\u001b[0mdtype\u001b[0m\u001b[0;34m)\u001b[0m\u001b[0;34m\u001b[0m\u001b[0;34m\u001b[0m\u001b[0m\n\u001b[0m\u001b[1;32m    532\u001b[0m             \u001b[0;32mexcept\u001b[0m \u001b[0mComplexWarning\u001b[0m\u001b[0;34m:\u001b[0m\u001b[0;34m\u001b[0m\u001b[0;34m\u001b[0m\u001b[0m\n\u001b[1;32m    533\u001b[0m                 raise ValueError(\"Complex data not supported\\n\"\n",
            "\u001b[0;32m/usr/local/lib/python3.6/dist-packages/numpy/core/_asarray.py\u001b[0m in \u001b[0;36masarray\u001b[0;34m(a, dtype, order)\u001b[0m\n\u001b[1;32m     83\u001b[0m \u001b[0;34m\u001b[0m\u001b[0m\n\u001b[1;32m     84\u001b[0m     \"\"\"\n\u001b[0;32m---> 85\u001b[0;31m     \u001b[0;32mreturn\u001b[0m \u001b[0marray\u001b[0m\u001b[0;34m(\u001b[0m\u001b[0ma\u001b[0m\u001b[0;34m,\u001b[0m \u001b[0mdtype\u001b[0m\u001b[0;34m,\u001b[0m \u001b[0mcopy\u001b[0m\u001b[0;34m=\u001b[0m\u001b[0;32mFalse\u001b[0m\u001b[0;34m,\u001b[0m \u001b[0morder\u001b[0m\u001b[0;34m=\u001b[0m\u001b[0morder\u001b[0m\u001b[0;34m)\u001b[0m\u001b[0;34m\u001b[0m\u001b[0;34m\u001b[0m\u001b[0m\n\u001b[0m\u001b[1;32m     86\u001b[0m \u001b[0;34m\u001b[0m\u001b[0m\n\u001b[1;32m     87\u001b[0m \u001b[0;34m\u001b[0m\u001b[0m\n",
            "\u001b[0;32m/usr/local/lib/python3.6/dist-packages/pandas/core/generic.py\u001b[0m in \u001b[0;36m__array__\u001b[0;34m(self, dtype)\u001b[0m\n\u001b[1;32m   1776\u001b[0m \u001b[0;34m\u001b[0m\u001b[0m\n\u001b[1;32m   1777\u001b[0m     \u001b[0;32mdef\u001b[0m \u001b[0m__array__\u001b[0m\u001b[0;34m(\u001b[0m\u001b[0mself\u001b[0m\u001b[0;34m,\u001b[0m \u001b[0mdtype\u001b[0m\u001b[0;34m=\u001b[0m\u001b[0;32mNone\u001b[0m\u001b[0;34m)\u001b[0m \u001b[0;34m->\u001b[0m \u001b[0mnp\u001b[0m\u001b[0;34m.\u001b[0m\u001b[0mndarray\u001b[0m\u001b[0;34m:\u001b[0m\u001b[0;34m\u001b[0m\u001b[0;34m\u001b[0m\u001b[0m\n\u001b[0;32m-> 1778\u001b[0;31m         \u001b[0;32mreturn\u001b[0m \u001b[0mnp\u001b[0m\u001b[0;34m.\u001b[0m\u001b[0masarray\u001b[0m\u001b[0;34m(\u001b[0m\u001b[0mself\u001b[0m\u001b[0;34m.\u001b[0m\u001b[0m_values\u001b[0m\u001b[0;34m,\u001b[0m \u001b[0mdtype\u001b[0m\u001b[0;34m=\u001b[0m\u001b[0mdtype\u001b[0m\u001b[0;34m)\u001b[0m\u001b[0;34m\u001b[0m\u001b[0;34m\u001b[0m\u001b[0m\n\u001b[0m\u001b[1;32m   1779\u001b[0m \u001b[0;34m\u001b[0m\u001b[0m\n\u001b[1;32m   1780\u001b[0m     \u001b[0;32mdef\u001b[0m \u001b[0m__array_wrap__\u001b[0m\u001b[0;34m(\u001b[0m\u001b[0mself\u001b[0m\u001b[0;34m,\u001b[0m \u001b[0mresult\u001b[0m\u001b[0;34m,\u001b[0m \u001b[0mcontext\u001b[0m\u001b[0;34m=\u001b[0m\u001b[0;32mNone\u001b[0m\u001b[0;34m)\u001b[0m\u001b[0;34m:\u001b[0m\u001b[0;34m\u001b[0m\u001b[0;34m\u001b[0m\u001b[0m\n",
            "\u001b[0;32m/usr/local/lib/python3.6/dist-packages/numpy/core/_asarray.py\u001b[0m in \u001b[0;36masarray\u001b[0;34m(a, dtype, order)\u001b[0m\n\u001b[1;32m     83\u001b[0m \u001b[0;34m\u001b[0m\u001b[0m\n\u001b[1;32m     84\u001b[0m     \"\"\"\n\u001b[0;32m---> 85\u001b[0;31m     \u001b[0;32mreturn\u001b[0m \u001b[0marray\u001b[0m\u001b[0;34m(\u001b[0m\u001b[0ma\u001b[0m\u001b[0;34m,\u001b[0m \u001b[0mdtype\u001b[0m\u001b[0;34m,\u001b[0m \u001b[0mcopy\u001b[0m\u001b[0;34m=\u001b[0m\u001b[0;32mFalse\u001b[0m\u001b[0;34m,\u001b[0m \u001b[0morder\u001b[0m\u001b[0;34m=\u001b[0m\u001b[0morder\u001b[0m\u001b[0;34m)\u001b[0m\u001b[0;34m\u001b[0m\u001b[0;34m\u001b[0m\u001b[0m\n\u001b[0m\u001b[1;32m     86\u001b[0m \u001b[0;34m\u001b[0m\u001b[0m\n\u001b[1;32m     87\u001b[0m \u001b[0;34m\u001b[0m\u001b[0m\n",
            "\u001b[0;31mValueError\u001b[0m: could not convert string to float: 'KIA'"
          ]
        }
      ]
    },
    {
      "cell_type": "code",
      "metadata": {
        "id": "fkJl2js9BzIf",
        "outputId": "05afb543-1fd8-4fc9-9000-a3767ea9c17a",
        "colab": {
          "base_uri": "https://localhost:8080/",
          "height": 401
        }
      },
      "source": [
        "import seaborn as sns\n",
        "\n",
        "# 피처간의 상관계수 행렬을 계산합니다.\n",
        "corr = picher_df[scale_columns].corr(method='pearson')\n",
        "show_cols = ['win', 'lose', 'save', 'hold', 'blon', 'match', 'start', \n",
        "             'inning', 'strike3', 'ball4', 'homerun', 'BABIP', 'LOB', \n",
        "             'ERA', 'RA9-WAR', 'FIP', 'kFIP', 'WAR', '2017']\n",
        "\n",
        "# corr 행렬 히트맵을 시각화합니다.\n",
        "# plt.rc('font', family='NanumGothicOTF')\n",
        "sns.set(font_scale=1.5)\n",
        "hm = sns.heatmap(corr.values,\n",
        "            cbar=True,\n",
        "            annot=True, \n",
        "            square=True,\n",
        "            fmt='.2f',\n",
        "            annot_kws={'size': 15},\n",
        "            yticklabels=show_cols,\n",
        "            xticklabels=show_cols)\n",
        "\n",
        "plt.tight_layout()\n",
        "plt.show()\n"
      ],
      "execution_count": null,
      "outputs": [
        {
          "output_type": "error",
          "ename": "KeyError",
          "evalue": "ignored",
          "traceback": [
            "\u001b[0;31m---------------------------------------------------------------------------\u001b[0m",
            "\u001b[0;31mKeyError\u001b[0m                                  Traceback (most recent call last)",
            "\u001b[0;32m<ipython-input-173-0cc1c8e196e5>\u001b[0m in \u001b[0;36m<module>\u001b[0;34m()\u001b[0m\n\u001b[1;32m      2\u001b[0m \u001b[0;34m\u001b[0m\u001b[0m\n\u001b[1;32m      3\u001b[0m \u001b[0;31m# 피처간의 상관계수 행렬을 계산합니다.\u001b[0m\u001b[0;34m\u001b[0m\u001b[0;34m\u001b[0m\u001b[0;34m\u001b[0m\u001b[0m\n\u001b[0;32m----> 4\u001b[0;31m \u001b[0mcorr\u001b[0m \u001b[0;34m=\u001b[0m \u001b[0mpicher_df\u001b[0m\u001b[0;34m[\u001b[0m\u001b[0mscale_columns\u001b[0m\u001b[0;34m]\u001b[0m\u001b[0;34m.\u001b[0m\u001b[0mcorr\u001b[0m\u001b[0;34m(\u001b[0m\u001b[0mmethod\u001b[0m\u001b[0;34m=\u001b[0m\u001b[0;34m'pearson'\u001b[0m\u001b[0;34m)\u001b[0m\u001b[0;34m\u001b[0m\u001b[0;34m\u001b[0m\u001b[0m\n\u001b[0m\u001b[1;32m      5\u001b[0m show_cols = ['win', 'lose', 'save', 'hold', 'blon', 'match', 'start', \n\u001b[1;32m      6\u001b[0m              \u001b[0;34m'inning'\u001b[0m\u001b[0;34m,\u001b[0m \u001b[0;34m'strike3'\u001b[0m\u001b[0;34m,\u001b[0m \u001b[0;34m'ball4'\u001b[0m\u001b[0;34m,\u001b[0m \u001b[0;34m'homerun'\u001b[0m\u001b[0;34m,\u001b[0m \u001b[0;34m'BABIP'\u001b[0m\u001b[0;34m,\u001b[0m \u001b[0;34m'LOB'\u001b[0m\u001b[0;34m,\u001b[0m\u001b[0;34m\u001b[0m\u001b[0;34m\u001b[0m\u001b[0m\n",
            "\u001b[0;32m/usr/local/lib/python3.6/dist-packages/pandas/core/frame.py\u001b[0m in \u001b[0;36m__getitem__\u001b[0;34m(self, key)\u001b[0m\n\u001b[1;32m   2906\u001b[0m             \u001b[0;32mif\u001b[0m \u001b[0mis_iterator\u001b[0m\u001b[0;34m(\u001b[0m\u001b[0mkey\u001b[0m\u001b[0;34m)\u001b[0m\u001b[0;34m:\u001b[0m\u001b[0;34m\u001b[0m\u001b[0;34m\u001b[0m\u001b[0m\n\u001b[1;32m   2907\u001b[0m                 \u001b[0mkey\u001b[0m \u001b[0;34m=\u001b[0m \u001b[0mlist\u001b[0m\u001b[0;34m(\u001b[0m\u001b[0mkey\u001b[0m\u001b[0;34m)\u001b[0m\u001b[0;34m\u001b[0m\u001b[0;34m\u001b[0m\u001b[0m\n\u001b[0;32m-> 2908\u001b[0;31m             \u001b[0mindexer\u001b[0m \u001b[0;34m=\u001b[0m \u001b[0mself\u001b[0m\u001b[0;34m.\u001b[0m\u001b[0mloc\u001b[0m\u001b[0;34m.\u001b[0m\u001b[0m_get_listlike_indexer\u001b[0m\u001b[0;34m(\u001b[0m\u001b[0mkey\u001b[0m\u001b[0;34m,\u001b[0m \u001b[0maxis\u001b[0m\u001b[0;34m=\u001b[0m\u001b[0;36m1\u001b[0m\u001b[0;34m,\u001b[0m \u001b[0mraise_missing\u001b[0m\u001b[0;34m=\u001b[0m\u001b[0;32mTrue\u001b[0m\u001b[0;34m)\u001b[0m\u001b[0;34m[\u001b[0m\u001b[0;36m1\u001b[0m\u001b[0;34m]\u001b[0m\u001b[0;34m\u001b[0m\u001b[0;34m\u001b[0m\u001b[0m\n\u001b[0m\u001b[1;32m   2909\u001b[0m \u001b[0;34m\u001b[0m\u001b[0m\n\u001b[1;32m   2910\u001b[0m         \u001b[0;31m# take() does not accept boolean indexers\u001b[0m\u001b[0;34m\u001b[0m\u001b[0;34m\u001b[0m\u001b[0;34m\u001b[0m\u001b[0m\n",
            "\u001b[0;32m/usr/local/lib/python3.6/dist-packages/pandas/core/indexing.py\u001b[0m in \u001b[0;36m_get_listlike_indexer\u001b[0;34m(self, key, axis, raise_missing)\u001b[0m\n\u001b[1;32m   1252\u001b[0m             \u001b[0mkeyarr\u001b[0m\u001b[0;34m,\u001b[0m \u001b[0mindexer\u001b[0m\u001b[0;34m,\u001b[0m \u001b[0mnew_indexer\u001b[0m \u001b[0;34m=\u001b[0m \u001b[0max\u001b[0m\u001b[0;34m.\u001b[0m\u001b[0m_reindex_non_unique\u001b[0m\u001b[0;34m(\u001b[0m\u001b[0mkeyarr\u001b[0m\u001b[0;34m)\u001b[0m\u001b[0;34m\u001b[0m\u001b[0;34m\u001b[0m\u001b[0m\n\u001b[1;32m   1253\u001b[0m \u001b[0;34m\u001b[0m\u001b[0m\n\u001b[0;32m-> 1254\u001b[0;31m         \u001b[0mself\u001b[0m\u001b[0;34m.\u001b[0m\u001b[0m_validate_read_indexer\u001b[0m\u001b[0;34m(\u001b[0m\u001b[0mkeyarr\u001b[0m\u001b[0;34m,\u001b[0m \u001b[0mindexer\u001b[0m\u001b[0;34m,\u001b[0m \u001b[0maxis\u001b[0m\u001b[0;34m,\u001b[0m \u001b[0mraise_missing\u001b[0m\u001b[0;34m=\u001b[0m\u001b[0mraise_missing\u001b[0m\u001b[0;34m)\u001b[0m\u001b[0;34m\u001b[0m\u001b[0;34m\u001b[0m\u001b[0m\n\u001b[0m\u001b[1;32m   1255\u001b[0m         \u001b[0;32mreturn\u001b[0m \u001b[0mkeyarr\u001b[0m\u001b[0;34m,\u001b[0m \u001b[0mindexer\u001b[0m\u001b[0;34m\u001b[0m\u001b[0;34m\u001b[0m\u001b[0m\n\u001b[1;32m   1256\u001b[0m \u001b[0;34m\u001b[0m\u001b[0m\n",
            "\u001b[0;32m/usr/local/lib/python3.6/dist-packages/pandas/core/indexing.py\u001b[0m in \u001b[0;36m_validate_read_indexer\u001b[0;34m(self, key, indexer, axis, raise_missing)\u001b[0m\n\u001b[1;32m   1302\u001b[0m             \u001b[0;32mif\u001b[0m \u001b[0mraise_missing\u001b[0m\u001b[0;34m:\u001b[0m\u001b[0;34m\u001b[0m\u001b[0;34m\u001b[0m\u001b[0m\n\u001b[1;32m   1303\u001b[0m                 \u001b[0mnot_found\u001b[0m \u001b[0;34m=\u001b[0m \u001b[0mlist\u001b[0m\u001b[0;34m(\u001b[0m\u001b[0mset\u001b[0m\u001b[0;34m(\u001b[0m\u001b[0mkey\u001b[0m\u001b[0;34m)\u001b[0m \u001b[0;34m-\u001b[0m \u001b[0mset\u001b[0m\u001b[0;34m(\u001b[0m\u001b[0max\u001b[0m\u001b[0;34m)\u001b[0m\u001b[0;34m)\u001b[0m\u001b[0;34m\u001b[0m\u001b[0;34m\u001b[0m\u001b[0m\n\u001b[0;32m-> 1304\u001b[0;31m                 \u001b[0;32mraise\u001b[0m \u001b[0mKeyError\u001b[0m\u001b[0;34m(\u001b[0m\u001b[0;34mf\"{not_found} not in index\"\u001b[0m\u001b[0;34m)\u001b[0m\u001b[0;34m\u001b[0m\u001b[0;34m\u001b[0m\u001b[0m\n\u001b[0m\u001b[1;32m   1305\u001b[0m \u001b[0;34m\u001b[0m\u001b[0m\n\u001b[1;32m   1306\u001b[0m             \u001b[0;31m# we skip the warning on Categorical\u001b[0m\u001b[0;34m\u001b[0m\u001b[0;34m\u001b[0m\u001b[0;34m\u001b[0m\u001b[0m\n",
            "\u001b[0;31mKeyError\u001b[0m: \"['연봉(2018)'] not in index\""
          ]
        }
      ]
    },
    {
      "cell_type": "code",
      "metadata": {
        "id": "tSb8WtwNK5se"
      },
      "source": [
        ""
      ],
      "execution_count": null,
      "outputs": []
    },
    {
      "cell_type": "code",
      "metadata": {
        "id": "sIWznMADJGjD"
      },
      "source": [
        ""
      ],
      "execution_count": null,
      "outputs": []
    },
    {
      "cell_type": "code",
      "metadata": {
        "id": "prUAva33Dy2A"
      },
      "source": [
        "\n",
        "from sklearn.linear_model import LinearRegression\n",
        "lr = LinearRegression()\n",
        "\n",
        "# 분석 결과 시각화\n",
        "X = picher_df[['FIP', 'WAR', '볼넷/9', '삼진/9', '연봉(2017)']]\n",
        "predict_2018_salary = lr.predict(X)\n",
        "picher_df['예측연봉(2018)'] = pd.Series(predict_2018_salary)\n",
        "\n"
      ],
      "execution_count": null,
      "outputs": []
    },
    {
      "cell_type": "code",
      "metadata": {
        "id": "SuXqxqqOIOi1"
      },
      "source": [
        "#원래의 데이터 프레임을 다시 불러오기\n",
        "picher = pd.read_csv('picher_stats_2017.csv')\n",
        "picher = picher[['선수명', '연봉(2017)']]"
      ],
      "execution_count": null,
      "outputs": []
    },
    {
      "cell_type": "code",
      "metadata": {
        "id": "m8VcI8xGIv-M"
      },
      "source": [
        "# 원래의 데이터 프레임에 2018년 연봉 정보를 합칩니다.\n",
        "result_df = picher_df.sort_values(by=['y'], ascending=False)\n",
        "result_df.drop(['연봉(2017)'], axis=1, inplace=True, errors='ignore')\n",
        "result_df = result_df.merge(picher, on=['선수명'], how='left')\n",
        "result_df = result_df[['선수명', 'y', '예측연봉(2018)', '연봉(2017)']]\n",
        "result_df.columns = ['선수명', '실제연봉(2018)', '예측연봉(2018)', '작년연봉(2017)']\n",
        "\n",
        "# 재계약하여 연봉이 변화한 선수만을 대상으로 관찰합니다.\n",
        "result_df = result_df[result_df['작년연봉(2017)'] != result_df['실제연봉(2018)']]\n",
        "result_df = result_df.reset_index()\n",
        "result_df = result_df.iloc[:10, :]\n",
        "result_df.head(10)"
      ],
      "execution_count": null,
      "outputs": []
    },
    {
      "cell_type": "code",
      "metadata": {
        "id": "Fa_MlBOOJIhl"
      },
      "source": [
        "# 선수별 연봉 정보(작년 연봉, 예측 연봉, 실제 연봉)를 bar 그래프로 출력합니다.\n",
        "\n",
        "result_df.plot(x='선수명', y=['작년연봉(2017)', '예측연봉(2018)', '실제연봉(2018)'], kind=\"bar\")"
      ],
      "execution_count": null,
      "outputs": []
    }
  ]
}