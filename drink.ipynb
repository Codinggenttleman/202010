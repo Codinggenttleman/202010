{
  "nbformat": 4,
  "nbformat_minor": 0,
  "metadata": {
    "colab": {
      "name": "drink.ipynb",
      "provenance": [],
      "collapsed_sections": [],
      "authorship_tag": "ABX9TyMfxR6UV7ZMqji5Y1X4Gyyl",
      "include_colab_link": true
    },
    "kernelspec": {
      "name": "python3",
      "display_name": "Python 3"
    }
  },
  "cells": [
    {
      "cell_type": "markdown",
      "metadata": {
        "id": "view-in-github",
        "colab_type": "text"
      },
      "source": [
        "<a href=\"https://colab.research.google.com/github/Codinggenttleman/202010/blob/main/drink.ipynb\" target=\"_parent\"><img src=\"https://colab.research.google.com/assets/colab-badge.svg\" alt=\"Open In Colab\"/></a>"
      ]
    },
    {
      "cell_type": "code",
      "metadata": {
        "id": "BkMZPZHlg4D1"
      },
      "source": [
        "#=======================================================4\n",
        "\n",
        "# step 1 탐색"
      ],
      "execution_count": null,
      "outputs": []
    },
    {
      "cell_type": "code",
      "metadata": {
        "id": "MscwLHxZhIjI",
        "outputId": "3fd67f9b-61ee-41d1-fe4f-09216ce09e51",
        "colab": {
          "base_uri": "https://localhost:8080/",
          "height": 264
        }
      },
      "source": [
        "import pandas as pd\n",
        "import numpy as np\n",
        "import matplotlib.pyplot as plt\n",
        "\n",
        "drinks = pd.read_csv(\"drinks.csv\") # 기본적으로 데이터 프레임 형으로 가져온다\n",
        "print(drinks.info())"
      ],
      "execution_count": null,
      "outputs": [
        {
          "output_type": "stream",
          "text": [
            "<class 'pandas.core.frame.DataFrame'>\n",
            "RangeIndex: 193 entries, 0 to 192\n",
            "Data columns (total 6 columns):\n",
            " #   Column                        Non-Null Count  Dtype  \n",
            "---  ------                        --------------  -----  \n",
            " 0   country                       193 non-null    object \n",
            " 1   beer_servings                 193 non-null    int64  \n",
            " 2   spirit_servings               193 non-null    int64  \n",
            " 3   wine_servings                 193 non-null    int64  \n",
            " 4   total_litres_of_pure_alcohol  193 non-null    float64\n",
            " 5   continent                     170 non-null    object \n",
            "dtypes: float64(1), int64(3), object(2)\n",
            "memory usage: 9.2+ KB\n",
            "None\n"
          ],
          "name": "stdout"
        }
      ]
    },
    {
      "cell_type": "code",
      "metadata": {
        "id": "TkdujdoCia5a",
        "outputId": "17540115-f4c1-404e-949b-25a62eb2174d",
        "colab": {
          "base_uri": "https://localhost:8080/",
          "height": 371
        }
      },
      "source": [
        "drinks.head(10)"
      ],
      "execution_count": null,
      "outputs": [
        {
          "output_type": "execute_result",
          "data": {
            "text/html": [
              "<div>\n",
              "<style scoped>\n",
              "    .dataframe tbody tr th:only-of-type {\n",
              "        vertical-align: middle;\n",
              "    }\n",
              "\n",
              "    .dataframe tbody tr th {\n",
              "        vertical-align: top;\n",
              "    }\n",
              "\n",
              "    .dataframe thead th {\n",
              "        text-align: right;\n",
              "    }\n",
              "</style>\n",
              "<table border=\"1\" class=\"dataframe\">\n",
              "  <thead>\n",
              "    <tr style=\"text-align: right;\">\n",
              "      <th></th>\n",
              "      <th>country</th>\n",
              "      <th>beer_servings</th>\n",
              "      <th>spirit_servings</th>\n",
              "      <th>wine_servings</th>\n",
              "      <th>total_litres_of_pure_alcohol</th>\n",
              "      <th>continent</th>\n",
              "    </tr>\n",
              "  </thead>\n",
              "  <tbody>\n",
              "    <tr>\n",
              "      <th>0</th>\n",
              "      <td>Afghanistan</td>\n",
              "      <td>0</td>\n",
              "      <td>0</td>\n",
              "      <td>0</td>\n",
              "      <td>0.0</td>\n",
              "      <td>AS</td>\n",
              "    </tr>\n",
              "    <tr>\n",
              "      <th>1</th>\n",
              "      <td>Albania</td>\n",
              "      <td>89</td>\n",
              "      <td>132</td>\n",
              "      <td>54</td>\n",
              "      <td>4.9</td>\n",
              "      <td>EU</td>\n",
              "    </tr>\n",
              "    <tr>\n",
              "      <th>2</th>\n",
              "      <td>Algeria</td>\n",
              "      <td>25</td>\n",
              "      <td>0</td>\n",
              "      <td>14</td>\n",
              "      <td>0.7</td>\n",
              "      <td>AF</td>\n",
              "    </tr>\n",
              "    <tr>\n",
              "      <th>3</th>\n",
              "      <td>Andorra</td>\n",
              "      <td>245</td>\n",
              "      <td>138</td>\n",
              "      <td>312</td>\n",
              "      <td>12.4</td>\n",
              "      <td>EU</td>\n",
              "    </tr>\n",
              "    <tr>\n",
              "      <th>4</th>\n",
              "      <td>Angola</td>\n",
              "      <td>217</td>\n",
              "      <td>57</td>\n",
              "      <td>45</td>\n",
              "      <td>5.9</td>\n",
              "      <td>AF</td>\n",
              "    </tr>\n",
              "    <tr>\n",
              "      <th>5</th>\n",
              "      <td>Antigua &amp; Barbuda</td>\n",
              "      <td>102</td>\n",
              "      <td>128</td>\n",
              "      <td>45</td>\n",
              "      <td>4.9</td>\n",
              "      <td>NaN</td>\n",
              "    </tr>\n",
              "    <tr>\n",
              "      <th>6</th>\n",
              "      <td>Argentina</td>\n",
              "      <td>193</td>\n",
              "      <td>25</td>\n",
              "      <td>221</td>\n",
              "      <td>8.3</td>\n",
              "      <td>SA</td>\n",
              "    </tr>\n",
              "    <tr>\n",
              "      <th>7</th>\n",
              "      <td>Armenia</td>\n",
              "      <td>21</td>\n",
              "      <td>179</td>\n",
              "      <td>11</td>\n",
              "      <td>3.8</td>\n",
              "      <td>EU</td>\n",
              "    </tr>\n",
              "    <tr>\n",
              "      <th>8</th>\n",
              "      <td>Australia</td>\n",
              "      <td>261</td>\n",
              "      <td>72</td>\n",
              "      <td>212</td>\n",
              "      <td>10.4</td>\n",
              "      <td>OC</td>\n",
              "    </tr>\n",
              "    <tr>\n",
              "      <th>9</th>\n",
              "      <td>Austria</td>\n",
              "      <td>279</td>\n",
              "      <td>75</td>\n",
              "      <td>191</td>\n",
              "      <td>9.7</td>\n",
              "      <td>EU</td>\n",
              "    </tr>\n",
              "  </tbody>\n",
              "</table>\n",
              "</div>"
            ],
            "text/plain": [
              "             country  beer_servings  ...  total_litres_of_pure_alcohol  continent\n",
              "0        Afghanistan              0  ...                           0.0         AS\n",
              "1            Albania             89  ...                           4.9         EU\n",
              "2            Algeria             25  ...                           0.7         AF\n",
              "3            Andorra            245  ...                          12.4         EU\n",
              "4             Angola            217  ...                           5.9         AF\n",
              "5  Antigua & Barbuda            102  ...                           4.9        NaN\n",
              "6          Argentina            193  ...                           8.3         SA\n",
              "7            Armenia             21  ...                           3.8         EU\n",
              "8          Australia            261  ...                          10.4         OC\n",
              "9            Austria            279  ...                           9.7         EU\n",
              "\n",
              "[10 rows x 6 columns]"
            ]
          },
          "metadata": {
            "tags": []
          },
          "execution_count": 3
        }
      ]
    },
    {
      "cell_type": "code",
      "metadata": {
        "id": "VAor4O8Libu7",
        "outputId": "2c741995-04f9-4f08-d6b7-19b556081367",
        "colab": {
          "base_uri": "https://localhost:8080/",
          "height": 297
        }
      },
      "source": [
        "drinks.describe()\n"
      ],
      "execution_count": null,
      "outputs": [
        {
          "output_type": "execute_result",
          "data": {
            "text/html": [
              "<div>\n",
              "<style scoped>\n",
              "    .dataframe tbody tr th:only-of-type {\n",
              "        vertical-align: middle;\n",
              "    }\n",
              "\n",
              "    .dataframe tbody tr th {\n",
              "        vertical-align: top;\n",
              "    }\n",
              "\n",
              "    .dataframe thead th {\n",
              "        text-align: right;\n",
              "    }\n",
              "</style>\n",
              "<table border=\"1\" class=\"dataframe\">\n",
              "  <thead>\n",
              "    <tr style=\"text-align: right;\">\n",
              "      <th></th>\n",
              "      <th>beer_servings</th>\n",
              "      <th>spirit_servings</th>\n",
              "      <th>wine_servings</th>\n",
              "      <th>total_litres_of_pure_alcohol</th>\n",
              "    </tr>\n",
              "  </thead>\n",
              "  <tbody>\n",
              "    <tr>\n",
              "      <th>count</th>\n",
              "      <td>193.000000</td>\n",
              "      <td>193.000000</td>\n",
              "      <td>193.000000</td>\n",
              "      <td>193.000000</td>\n",
              "    </tr>\n",
              "    <tr>\n",
              "      <th>mean</th>\n",
              "      <td>106.160622</td>\n",
              "      <td>80.994819</td>\n",
              "      <td>49.450777</td>\n",
              "      <td>4.717098</td>\n",
              "    </tr>\n",
              "    <tr>\n",
              "      <th>std</th>\n",
              "      <td>101.143103</td>\n",
              "      <td>88.284312</td>\n",
              "      <td>79.697598</td>\n",
              "      <td>3.773298</td>\n",
              "    </tr>\n",
              "    <tr>\n",
              "      <th>min</th>\n",
              "      <td>0.000000</td>\n",
              "      <td>0.000000</td>\n",
              "      <td>0.000000</td>\n",
              "      <td>0.000000</td>\n",
              "    </tr>\n",
              "    <tr>\n",
              "      <th>25%</th>\n",
              "      <td>20.000000</td>\n",
              "      <td>4.000000</td>\n",
              "      <td>1.000000</td>\n",
              "      <td>1.300000</td>\n",
              "    </tr>\n",
              "    <tr>\n",
              "      <th>50%</th>\n",
              "      <td>76.000000</td>\n",
              "      <td>56.000000</td>\n",
              "      <td>8.000000</td>\n",
              "      <td>4.200000</td>\n",
              "    </tr>\n",
              "    <tr>\n",
              "      <th>75%</th>\n",
              "      <td>188.000000</td>\n",
              "      <td>128.000000</td>\n",
              "      <td>59.000000</td>\n",
              "      <td>7.200000</td>\n",
              "    </tr>\n",
              "    <tr>\n",
              "      <th>max</th>\n",
              "      <td>376.000000</td>\n",
              "      <td>438.000000</td>\n",
              "      <td>370.000000</td>\n",
              "      <td>14.400000</td>\n",
              "    </tr>\n",
              "  </tbody>\n",
              "</table>\n",
              "</div>"
            ],
            "text/plain": [
              "       beer_servings  ...  total_litres_of_pure_alcohol\n",
              "count     193.000000  ...                    193.000000\n",
              "mean      106.160622  ...                      4.717098\n",
              "std       101.143103  ...                      3.773298\n",
              "min         0.000000  ...                      0.000000\n",
              "25%        20.000000  ...                      1.300000\n",
              "50%        76.000000  ...                      4.200000\n",
              "75%       188.000000  ...                      7.200000\n",
              "max       376.000000  ...                     14.400000\n",
              "\n",
              "[8 rows x 4 columns]"
            ]
          },
          "metadata": {
            "tags": []
          },
          "execution_count": 4
        }
      ]
    },
    {
      "cell_type": "code",
      "metadata": {
        "id": "aAe6pIVyifWh"
      },
      "source": [
        "#==========================================================\n",
        "\n",
        "# step 2 인사이트의 발견"
      ],
      "execution_count": null,
      "outputs": []
    },
    {
      "cell_type": "code",
      "metadata": {
        "id": "MIkjAaejinnN",
        "outputId": "b9ddea1d-f887-4e27-ca13-de72f3d94ee8",
        "colab": {
          "base_uri": "https://localhost:8080/",
          "height": 70
        }
      },
      "source": [
        "# 피처간의 상관관계 탐색 (예:키와 몸무게의 관계...)\n",
        "\n",
        "# 두개 피처의 상관계수 구하기 \n",
        "# beer_servings\t wine_servings 의 상관계수를 구해보자\n",
        "# pearson은 상관계수를 구하는 계산 방법 중 하나이며 가장 널리 쓰이는 방법이다. \n",
        "\n",
        "corr = drinks[['beer_servings', 'wine_servings']].corr(method = 'pearson')\n",
        "print(corr)\n",
        "\n"
      ],
      "execution_count": null,
      "outputs": [
        {
          "output_type": "stream",
          "text": [
            "               beer_servings  wine_servings\n",
            "beer_servings       1.000000       0.527172\n",
            "wine_servings       0.527172       1.000000\n"
          ],
          "name": "stdout"
        }
      ]
    },
    {
      "cell_type": "code",
      "metadata": {
        "id": "EYfW5IHelxFj"
      },
      "source": [
        "# 상관 분석\n",
        "\n",
        "# 상관 분석이란 두 변수 간의 선형적 관계를 상관계수로 표현하는 것이다. \n",
        "# 상관 계수를 구한다는 것은 공분산의 개념을 포함한다. \n",
        "# 공분산은 2개의 확률 변수에 대한 상관 정도로 2개의 변수 중 하나의 값이 상승하는 경향을 보일 때\n",
        "# 다른 값도 상승하는 경향을 수치로 나타낸 것이다. \n",
        "# 공분산만으로 두 확률 변수의 상관 관계를 구하게 되면 두변수의 단위 크기에 따라 영향을 받을수 밖에 없다. \n",
        "# 따라서, -1에서 1사의 값으로 바꾸어 표현 표현한 것을 상관 계수하고 한다. \n",
        "\n",
        "\n",
        "# -1에 가까운 값이 얻어지면 : 누가 봐도 매우 강력한 음(-)의 상관. 오히려 너무 확고하기 때문에 사회과학 데이터일 경우 데이터를 조작한 게 아닌가 의심할 정도이다. 물론 이건 사회과학 얘기고 순수학문에 가까운 분야일수록 요구되는 상관관계는 높은 편.\n",
        "# -0.5 정도의 값이 얻어지면 : 강력한 음(-)의 상관. 연구자는 변인 x 가 증가하면 변인 y 가 감소한다고 자신 있게 말할 수 있다.\n",
        "# -0.2 정도의 값이 얻어지면 : 음(-)의 상관이긴 한데 너무 약해서 모호하다. 상관관계가 없다고는 할 수 없지만 좀 더 의심해 봐야 한다.\n",
        "# 0 정도의 값이 얻어지면 : 대부분의 경우, 상관관계가 있을거라고 간주되지 않는다. 다른 후속 연구들을 통해 뒤집어질지는 모르지만 일단은 회의적이다. 하지만 무조건적으로 그런건 아니라 2차 방정식 그래프와 비슷한 모양이 될 경우 상관관계는 있으나 상관계수는 0에 가깝게 나온다.\n",
        "# 0.2 정도의 값이 얻어지면 : 너무 약해서 의심스러운 양(+)의 상관. 이것만으로는 상관관계에 대해 아주 장담할 수는 없다. 하지만 사회과학에선 매우 큰 상관관계가 있는 것으로 간주한다.\n",
        "# 0.5 정도의 값이 얻어지면 : 강력한 양(+)의 상관. 변인 x 가 증가하면 변인 y 가 증가한다는 주장은 이제 통계적으로 지지받고 있다.\n",
        "# 1에 가까운 값이 얻어지면 : 이상할 정도로 강력한 양(+)의 상관. 위와 마찬가지로, 이렇게까지 확고한 상관관계는 오히려 쉽게 찾아보기 어렵다."
      ],
      "execution_count": null,
      "outputs": []
    },
    {
      "cell_type": "code",
      "metadata": {
        "id": "YkL_K2YOlzHA",
        "outputId": "e7e1c3f3-923c-44ac-d308-f4092977cae3",
        "colab": {
          "base_uri": "https://localhost:8080/",
          "height": 142
        }
      },
      "source": [
        "cols = ['beer_servings', 'spirit_servings','wine_servings','total_litres_of_pure_alcohol']\n",
        "corr = drinks[cols].corr(method = 'pearson')\n",
        "print(corr)"
      ],
      "execution_count": null,
      "outputs": [
        {
          "output_type": "stream",
          "text": [
            "                              beer_servings  ...  total_litres_of_pure_alcohol\n",
            "beer_servings                      1.000000  ...                      0.835839\n",
            "spirit_servings                    0.458819  ...                      0.654968\n",
            "wine_servings                      0.527172  ...                      0.667598\n",
            "total_litres_of_pure_alcohol       0.835839  ...                      1.000000\n",
            "\n",
            "[4 rows x 4 columns]\n"
          ],
          "name": "stdout"
        }
      ]
    },
    {
      "cell_type": "code",
      "metadata": {
        "id": "i6TZo-Hkovpg",
        "outputId": "74ecc404-e4d0-449a-90d9-c2e73ac13c41",
        "colab": {
          "base_uri": "https://localhost:8080/",
          "height": 234
        }
      },
      "source": [
        "pip install seaborn   # 시각화 라이브러리"
      ],
      "execution_count": null,
      "outputs": [
        {
          "output_type": "stream",
          "text": [
            "Requirement already satisfied: seaborn in /usr/local/lib/python3.6/dist-packages (0.11.0)\n",
            "Requirement already satisfied: pandas>=0.23 in /usr/local/lib/python3.6/dist-packages (from seaborn) (1.1.2)\n",
            "Requirement already satisfied: scipy>=1.0 in /usr/local/lib/python3.6/dist-packages (from seaborn) (1.4.1)\n",
            "Requirement already satisfied: numpy>=1.15 in /usr/local/lib/python3.6/dist-packages (from seaborn) (1.18.5)\n",
            "Requirement already satisfied: matplotlib>=2.2 in /usr/local/lib/python3.6/dist-packages (from seaborn) (3.2.2)\n",
            "Requirement already satisfied: python-dateutil>=2.7.3 in /usr/local/lib/python3.6/dist-packages (from pandas>=0.23->seaborn) (2.8.1)\n",
            "Requirement already satisfied: pytz>=2017.2 in /usr/local/lib/python3.6/dist-packages (from pandas>=0.23->seaborn) (2018.9)\n",
            "Requirement already satisfied: cycler>=0.10 in /usr/local/lib/python3.6/dist-packages (from matplotlib>=2.2->seaborn) (0.10.0)\n",
            "Requirement already satisfied: pyparsing!=2.0.4,!=2.1.2,!=2.1.6,>=2.0.1 in /usr/local/lib/python3.6/dist-packages (from matplotlib>=2.2->seaborn) (2.4.7)\n",
            "Requirement already satisfied: kiwisolver>=1.0.1 in /usr/local/lib/python3.6/dist-packages (from matplotlib>=2.2->seaborn) (1.2.0)\n",
            "Requirement already satisfied: six>=1.5 in /usr/local/lib/python3.6/dist-packages (from python-dateutil>=2.7.3->pandas>=0.23->seaborn) (1.15.0)\n"
          ],
          "name": "stdout"
        }
      ]
    },
    {
      "cell_type": "code",
      "metadata": {
        "id": "auy09nI_riKZ",
        "outputId": "8c969036-8f96-4735-9994-3cb3e4ca3077",
        "colab": {
          "base_uri": "https://localhost:8080/",
          "height": 279
        }
      },
      "source": [
        "import seaborn as sns\n",
        "import matplotlib.pyplot as plt\n",
        "\n",
        "\n",
        "cols_view = ['beer', 'spirit', 'wine', 'alcohol'] # 그래프 출력을 위한 cols 이름을 축약합니다.\n",
        "sns.set(font_scale=1.5)\n",
        "hm = sns.heatmap(corr.values,\n",
        "            cbar=True,\n",
        "            annot=True, \n",
        "            square=True,\n",
        "            fmt='.2f',\n",
        "            annot_kws={'size': 15},\n",
        "            yticklabels=cols_view,\n",
        "            xticklabels=cols_view)\n",
        "\n",
        "plt.tight_layout()\n",
        "plt.show()"
      ],
      "execution_count": null,
      "outputs": [
        {
          "output_type": "display_data",
          "data": {
            "image/png": "[encoded data removed]",
            "text/plain": [
              "<Figure size 432x288 with 2 Axes>"
            ]
          },
          "metadata": {
            "tags": []
          }
        }
      ]
    },
    {
      "cell_type": "code",
      "metadata": {
        "id": "hbI5iGGTtHZc",
        "outputId": "4fb4fc69-ee9a-4983-a87d-41f7249b6380",
        "colab": {
          "base_uri": "https://localhost:8080/",
          "height": 670
        }
      },
      "source": [
        "sns.set(style='whitegrid', context='notebook')\n",
        "sns.pairplot(drinks[['beer_servings','spirit_servings','wine_servings','total_litres_of_pure_alcohol']], height = 2.5)\n",
        "plt.show()"
      ],
      "execution_count": null,
      "outputs": [
        {
          "output_type": "display_data",
          "data": {
            "image/png": "[encoded data removed]",
            "text/plain": [
              "<Figure size 720x720 with 20 Axes>"
            ]
          },
          "metadata": {
            "tags": []
          }
        }
      ]
    },
    {
      "cell_type": "code",
      "metadata": {
        "id": "xyBMpzRdudfP"
      },
      "source": [
        "#=======================================================\n",
        "\n",
        "# step 3 전처리"
      ],
      "execution_count": null,
      "outputs": []
    },
    {
      "cell_type": "code",
      "metadata": {
        "id": "P1niMI89vbWx",
        "outputId": "083f91eb-c36b-491b-d745-fba1ba17a930",
        "colab": {
          "base_uri": "https://localhost:8080/",
          "height": 268
        }
      },
      "source": [
        "# 결측 데이터 처리\n",
        "\n",
        "print(drinks.isnull().sum())\n",
        "\n",
        "print(drinks.dtypes)"
      ],
      "execution_count": null,
      "outputs": [
        {
          "output_type": "stream",
          "text": [
            "country                          0\n",
            "beer_servings                    0\n",
            "spirit_servings                  0\n",
            "wine_servings                    0\n",
            "total_litres_of_pure_alcohol     0\n",
            "continent                       23\n",
            "dtype: int64\n",
            "country                          object\n",
            "beer_servings                     int64\n",
            "spirit_servings                   int64\n",
            "wine_servings                     int64\n",
            "total_litres_of_pure_alcohol    float64\n",
            "continent                        object\n",
            "dtype: object\n"
          ],
          "name": "stdout"
        }
      ]
    },
    {
      "cell_type": "code",
      "metadata": {
        "id": "-os_LJYVvhAq"
      },
      "source": [
        "# 결측 데이터 처리, 기타 대륙으로 통합 -> 'OT'\n",
        "\n",
        "drinks['continent'] = drinks['continent'].fillna('OT')"
      ],
      "execution_count": null,
      "outputs": []
    },
    {
      "cell_type": "code",
      "metadata": {
        "id": "CctSdFZHvtcO",
        "outputId": "ef6ca358-b03f-4778-8ff1-ddc0047e724b",
        "colab": {
          "base_uri": "https://localhost:8080/",
          "height": 371
        }
      },
      "source": [
        "drinks.head(10)"
      ],
      "execution_count": null,
      "outputs": [
        {
          "output_type": "execute_result",
          "data": {
            "text/html": [
              "<div>\n",
              "<style scoped>\n",
              "    .dataframe tbody tr th:only-of-type {\n",
              "        vertical-align: middle;\n",
              "    }\n",
              "\n",
              "    .dataframe tbody tr th {\n",
              "        vertical-align: top;\n",
              "    }\n",
              "\n",
              "    .dataframe thead th {\n",
              "        text-align: right;\n",
              "    }\n",
              "</style>\n",
              "<table border=\"1\" class=\"dataframe\">\n",
              "  <thead>\n",
              "    <tr style=\"text-align: right;\">\n",
              "      <th></th>\n",
              "      <th>country</th>\n",
              "      <th>beer_servings</th>\n",
              "      <th>spirit_servings</th>\n",
              "      <th>wine_servings</th>\n",
              "      <th>total_litres_of_pure_alcohol</th>\n",
              "      <th>continent</th>\n",
              "    </tr>\n",
              "  </thead>\n",
              "  <tbody>\n",
              "    <tr>\n",
              "      <th>0</th>\n",
              "      <td>Afghanistan</td>\n",
              "      <td>0</td>\n",
              "      <td>0</td>\n",
              "      <td>0</td>\n",
              "      <td>0.0</td>\n",
              "      <td>AS</td>\n",
              "    </tr>\n",
              "    <tr>\n",
              "      <th>1</th>\n",
              "      <td>Albania</td>\n",
              "      <td>89</td>\n",
              "      <td>132</td>\n",
              "      <td>54</td>\n",
              "      <td>4.9</td>\n",
              "      <td>EU</td>\n",
              "    </tr>\n",
              "    <tr>\n",
              "      <th>2</th>\n",
              "      <td>Algeria</td>\n",
              "      <td>25</td>\n",
              "      <td>0</td>\n",
              "      <td>14</td>\n",
              "      <td>0.7</td>\n",
              "      <td>AF</td>\n",
              "    </tr>\n",
              "    <tr>\n",
              "      <th>3</th>\n",
              "      <td>Andorra</td>\n",
              "      <td>245</td>\n",
              "      <td>138</td>\n",
              "      <td>312</td>\n",
              "      <td>12.4</td>\n",
              "      <td>EU</td>\n",
              "    </tr>\n",
              "    <tr>\n",
              "      <th>4</th>\n",
              "      <td>Angola</td>\n",
              "      <td>217</td>\n",
              "      <td>57</td>\n",
              "      <td>45</td>\n",
              "      <td>5.9</td>\n",
              "      <td>AF</td>\n",
              "    </tr>\n",
              "    <tr>\n",
              "      <th>5</th>\n",
              "      <td>Antigua &amp; Barbuda</td>\n",
              "      <td>102</td>\n",
              "      <td>128</td>\n",
              "      <td>45</td>\n",
              "      <td>4.9</td>\n",
              "      <td>OT</td>\n",
              "    </tr>\n",
              "    <tr>\n",
              "      <th>6</th>\n",
              "      <td>Argentina</td>\n",
              "      <td>193</td>\n",
              "      <td>25</td>\n",
              "      <td>221</td>\n",
              "      <td>8.3</td>\n",
              "      <td>SA</td>\n",
              "    </tr>\n",
              "    <tr>\n",
              "      <th>7</th>\n",
              "      <td>Armenia</td>\n",
              "      <td>21</td>\n",
              "      <td>179</td>\n",
              "      <td>11</td>\n",
              "      <td>3.8</td>\n",
              "      <td>EU</td>\n",
              "    </tr>\n",
              "    <tr>\n",
              "      <th>8</th>\n",
              "      <td>Australia</td>\n",
              "      <td>261</td>\n",
              "      <td>72</td>\n",
              "      <td>212</td>\n",
              "      <td>10.4</td>\n",
              "      <td>OC</td>\n",
              "    </tr>\n",
              "    <tr>\n",
              "      <th>9</th>\n",
              "      <td>Austria</td>\n",
              "      <td>279</td>\n",
              "      <td>75</td>\n",
              "      <td>191</td>\n",
              "      <td>9.7</td>\n",
              "      <td>EU</td>\n",
              "    </tr>\n",
              "  </tbody>\n",
              "</table>\n",
              "</div>"
            ],
            "text/plain": [
              "             country  beer_servings  ...  total_litres_of_pure_alcohol  continent\n",
              "0        Afghanistan              0  ...                           0.0         AS\n",
              "1            Albania             89  ...                           4.9         EU\n",
              "2            Algeria             25  ...                           0.7         AF\n",
              "3            Andorra            245  ...                          12.4         EU\n",
              "4             Angola            217  ...                           5.9         AF\n",
              "5  Antigua & Barbuda            102  ...                           4.9         OT\n",
              "6          Argentina            193  ...                           8.3         SA\n",
              "7            Armenia             21  ...                           3.8         EU\n",
              "8          Australia            261  ...                          10.4         OC\n",
              "9            Austria            279  ...                           9.7         EU\n",
              "\n",
              "[10 rows x 6 columns]"
            ]
          },
          "metadata": {
            "tags": []
          },
          "execution_count": 17
        }
      ]
    },
    {
      "cell_type": "code",
      "metadata": {
        "id": "mzh460yBv4Mo",
        "outputId": "48865e7e-254b-47b7-ddca-728d90cfffa2",
        "colab": {
          "base_uri": "https://localhost:8080/",
          "height": 142
        }
      },
      "source": [
        "print(drinks.isnull().sum())"
      ],
      "execution_count": null,
      "outputs": [
        {
          "output_type": "stream",
          "text": [
            "country                         0\n",
            "beer_servings                   0\n",
            "spirit_servings                 0\n",
            "wine_servings                   0\n",
            "total_litres_of_pure_alcohol    0\n",
            "continent                       0\n",
            "dtype: int64\n"
          ],
          "name": "stdout"
        }
      ]
    },
    {
      "cell_type": "code",
      "metadata": {
        "id": "vQNwGCeHwrf0",
        "outputId": "effc70fa-d140-48e9-bbf6-aa4778d438c4",
        "colab": {
          "base_uri": "https://localhost:8080/",
          "height": 272
        }
      },
      "source": [
        "labels = drinks['continent'].value_counts().index.tolist()\n",
        "fracs1 = drinks['continent'].value_counts().values.tolist()\n",
        "explode = (0,0,0,0.25,0,0)\n",
        "\n",
        "plt.pie(fracs1, explode=explode, labels=labels, autopct='%.0f%%',shadow = True)\n",
        "plt.title('Null data to OT')\n",
        "plt.show()"
      ],
      "execution_count": null,
      "outputs": [
        {
          "output_type": "display_data",
          "data": {
            "image/png": "[encoded data removed]",
            "text/plain": [
              "<Figure size 432x288 with 1 Axes>"
            ]
          },
          "metadata": {
            "tags": []
          }
        }
      ]
    },
    {
      "cell_type": "code",
      "metadata": {
        "id": "vnOMLQ_Iw4xf",
        "outputId": "103fcb29-dfef-4090-e168-f3a339590fa2",
        "colab": {
          "base_uri": "https://localhost:8080/",
          "height": 219
        }
      },
      "source": [
        "# 대륙별 spirit_servings의 통계적 정보는\n",
        "\n",
        "# agg() 함수를 사용하여 그룹 단위로 분석을 한번에 수행한다. 여러가지 연산 결과를 동시에 얻을 수 있는 함수\n",
        "\n",
        "result = drinks.groupby('continent').spirit_servings.agg(['mean', 'min', 'max', 'sum'])\n",
        "result.head()"
      ],
      "execution_count": null,
      "outputs": [
        {
          "output_type": "execute_result",
          "data": {
            "text/html": [
              "<div>\n",
              "<style scoped>\n",
              "    .dataframe tbody tr th:only-of-type {\n",
              "        vertical-align: middle;\n",
              "    }\n",
              "\n",
              "    .dataframe tbody tr th {\n",
              "        vertical-align: top;\n",
              "    }\n",
              "\n",
              "    .dataframe thead th {\n",
              "        text-align: right;\n",
              "    }\n",
              "</style>\n",
              "<table border=\"1\" class=\"dataframe\">\n",
              "  <thead>\n",
              "    <tr style=\"text-align: right;\">\n",
              "      <th></th>\n",
              "      <th>mean</th>\n",
              "      <th>min</th>\n",
              "      <th>max</th>\n",
              "      <th>sum</th>\n",
              "    </tr>\n",
              "    <tr>\n",
              "      <th>continent</th>\n",
              "      <th></th>\n",
              "      <th></th>\n",
              "      <th></th>\n",
              "      <th></th>\n",
              "    </tr>\n",
              "  </thead>\n",
              "  <tbody>\n",
              "    <tr>\n",
              "      <th>AF</th>\n",
              "      <td>16.339623</td>\n",
              "      <td>0</td>\n",
              "      <td>152</td>\n",
              "      <td>866</td>\n",
              "    </tr>\n",
              "    <tr>\n",
              "      <th>AS</th>\n",
              "      <td>60.840909</td>\n",
              "      <td>0</td>\n",
              "      <td>326</td>\n",
              "      <td>2677</td>\n",
              "    </tr>\n",
              "    <tr>\n",
              "      <th>EU</th>\n",
              "      <td>132.555556</td>\n",
              "      <td>0</td>\n",
              "      <td>373</td>\n",
              "      <td>5965</td>\n",
              "    </tr>\n",
              "    <tr>\n",
              "      <th>OC</th>\n",
              "      <td>58.437500</td>\n",
              "      <td>0</td>\n",
              "      <td>254</td>\n",
              "      <td>935</td>\n",
              "    </tr>\n",
              "    <tr>\n",
              "      <th>OT</th>\n",
              "      <td>165.739130</td>\n",
              "      <td>68</td>\n",
              "      <td>438</td>\n",
              "      <td>3812</td>\n",
              "    </tr>\n",
              "  </tbody>\n",
              "</table>\n",
              "</div>"
            ],
            "text/plain": [
              "                 mean  min  max   sum\n",
              "continent                            \n",
              "AF          16.339623    0  152   866\n",
              "AS          60.840909    0  326  2677\n",
              "EU         132.555556    0  373  5965\n",
              "OC          58.437500    0  254   935\n",
              "OT         165.739130   68  438  3812"
            ]
          },
          "metadata": {
            "tags": []
          },
          "execution_count": 25
        }
      ]
    },
    {
      "cell_type": "code",
      "metadata": {
        "id": "TB_jbEvezZsN",
        "outputId": "f9e4df1e-23bf-4ae4-fb10-574a6fdb2620",
        "colab": {
          "base_uri": "https://localhost:8080/",
          "height": 106
        }
      },
      "source": [
        "# 전체 평균보다 많은 알코올을 섭취하는 대륙은 어디?\n",
        "total_mean = drinks.total_litres_of_pure_alcohol.mean()\n",
        "continent_mean = drinks.groupby('continent')['total_litres_of_pure_alcohol'].mean()\n",
        "continent_over_mean = continent_mean[continent_mean >= total_mean]\n",
        "print(continent_over_mean)"
      ],
      "execution_count": null,
      "outputs": [
        {
          "output_type": "stream",
          "text": [
            "continent\n",
            "EU    8.617778\n",
            "OT    5.995652\n",
            "SA    6.308333\n",
            "Name: total_litres_of_pure_alcohol, dtype: float64\n"
          ],
          "name": "stdout"
        }
      ]
    },
    {
      "cell_type": "code",
      "metadata": {
        "id": "1LA59kH2ztlx",
        "outputId": "0e34f6d5-d7d6-4655-f2f0-ea576e115a85",
        "colab": {
          "base_uri": "https://localhost:8080/",
          "height": 34
        }
      },
      "source": [
        "# 평균 beer_servings가 가장 높은 것은?\n",
        "\n",
        "beer_continent = drinks.groupby('continent').beer_servings.mean().idxmax()\n",
        "print(beer_continent)"
      ],
      "execution_count": null,
      "outputs": [
        {
          "output_type": "stream",
          "text": [
            "EU\n"
          ],
          "name": "stdout"
        }
      ]
    },
    {
      "cell_type": "code",
      "metadata": {
        "id": "72neflTb1OXV"
      },
      "source": [
        "#=========================================================\n",
        "\n",
        "# step 4 분석"
      ],
      "execution_count": null,
      "outputs": []
    },
    {
      "cell_type": "code",
      "metadata": {
        "id": "X6l50CtG9AoG"
      },
      "source": [
        "# t-검정 (t-test)\n",
        "# 지금까지 두 피처 간의 상관성을 계산하거나 그룹단위로 나누어 수치 정보를 분석하는 방식, \n",
        "# 이러한 분석 데이터에서 인사이트를 발견하는데 아주 유요하게 사용되는 방식 \n",
        "# 그러나, \n",
        "# 분석가의 주관에 따라 도출된 내용이기 때문에 분석 자체의 타당성을 증명하기에 한계가 있다. \n",
        "# 분석 결과에 타당성을 부여하기 위해 통계적으로 차이를 검정하는 과정이 필요하다. \n",
        "# 그 중 제일 기본적인 방법인 t-test 를 통해 분석 대상 간에 통계적인 차이를 검정하는 방법이 필요하다 \n",
        "\n",
        "# t-test는 두 집단 간의 평균 차이에 대한 검정 방법으로 실제 정보를 모를 때  \n",
        "# 현재의 데이터만으로 두 집단의 차이에 대해 검정할 수 있는 방법이다. \n",
        "# 단, t-test는 검정 대상인 두 집단의 데이터 개수가 비슷하면서 두 데이터가 정규분포를 보이는 경우에 \n",
        "# 신뢰도가 높은 검정방식이다. "
      ],
      "execution_count": null,
      "outputs": []
    },
    {
      "cell_type": "code",
      "metadata": {
        "id": "2A02ioq_9DGv",
        "outputId": "f4422953-4cd8-454e-f1e3-fe6405ce10d1",
        "colab": {
          "base_uri": "https://localhost:8080/",
          "height": 34
        }
      },
      "source": [
        "# 아프리카와 유럽 간의 맥주 소비량 차이를 검정하자.\n",
        "\n",
        "africa = drinks.loc[drinks['continent']==\"AF\"]\n",
        "europe = drinks.loc[drinks['continent']==\"EU\"]\n",
        "\n",
        "from scipy import stats\n",
        "tTestResult = stats.ttest_ind(africa['beer_servings'], europe['beer_servings'])\n",
        "# tTestResultDiffVar = stats.ttest_ind(africa['beer_servings'], europe['beer_servings'], equal_var=False)\n",
        "\n",
        "\n",
        "print(tTestResult)\n",
        "# print(tTestResultDiffVar)\n"
      ],
      "execution_count": null,
      "outputs": [
        {
          "output_type": "stream",
          "text": [
            "Ttest_indResult(statistic=-7.267986335644365, pvalue=9.719556422442453e-11)\n"
          ],
          "name": "stdout"
        }
      ]
    },
    {
      "cell_type": "code",
      "metadata": {
        "id": "o_Jv8iVc9E6A"
      },
      "source": [
        "# pvalue : 유의 확률  보통 0.05 (또는 0.01) 이 기준, 가설이 얼마나 믿을만한 것인지를 나타내는 지표\n",
        "\n",
        "# pvalue가 0.000000000....이하로 나타났다. 따라서 아프리카와 유럽 대륙 간의 맥주 소비량 차이는 통계적으로 유의미하다.라는 결론 \n",
        "         "
      ],
      "execution_count": null,
      "outputs": []
    }
  ]
}